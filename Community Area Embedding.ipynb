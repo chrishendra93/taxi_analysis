{
 "cells": [
  {
   "cell_type": "code",
   "execution_count": 1,
   "id": "ffc98175",
   "metadata": {},
   "outputs": [],
   "source": [
    "import pandas as pd\n",
    "import numpy as np\n",
    "import torch\n",
    "import os\n",
    "import joblib\n",
    "from torch import nn\n",
    "from torch.utils.data import Dataset, DataLoader\n",
    "from torch.nn import DataParallel, MSELoss\n",
    "from torch.optim import AdamW\n",
    "from tqdm.notebook import tqdm\n",
    "from sklearn.preprocessing import LabelEncoder, StandardScaler\n",
    "from sklearn.model_selection import train_test_split\n",
    "from sklearn.ensemble import RandomForestRegressor, GradientBoostingRegressor\n",
    "from sklearn.svm import LinearSVR\n",
    "from sklearn.neighbors import KNeighborsRegressor\n",
    "from xgboost import XGBRegressor"
   ]
  },
  {
   "cell_type": "code",
   "execution_count": 2,
   "id": "60a6e3d2",
   "metadata": {},
   "outputs": [],
   "source": [
    "# Setting random seed for reproducibility\n",
    "seed = 42\n",
    "np.random.seed(seed)\n",
    "torch.manual_seed(seed)\n",
    "torch.cuda.manual_seed_all(seed)"
   ]
  },
  {
   "cell_type": "code",
   "execution_count": 3,
   "id": "e9265559",
   "metadata": {},
   "outputs": [],
   "source": [
    "class TabularDataset(Dataset):\n",
    "    \n",
    "    def __init__(self, df, numeric_features, cat_features):\n",
    "        self.numeric_features = torch.tensor(df[numeric_features].values)\n",
    "        self.cat_features = torch.LongTensor(df[cat_features].values)\n",
    "        self.fares = torch.tensor(df[\"Fare\"].values)\n",
    "    \n",
    "    def __getitem__(self, idx):\n",
    "        return self.numeric_features[idx], self.cat_features[idx], self.fares[idx]\n",
    "    \n",
    "    \n",
    "    def __len__(self):\n",
    "        return len(self.fares)        "
   ]
  },
  {
   "cell_type": "code",
   "execution_count": 4,
   "id": "4c7abc17",
   "metadata": {},
   "outputs": [
    {
     "name": "stdout",
     "output_type": "stream",
     "text": [
      "There are 3299523 data points\n"
     ]
    },
    {
     "data": {
      "text/plain": [
       "Index(['Trip ID', 'Taxi ID', 'Trip Start Timestamp', 'Trip End Timestamp',\n",
       "       'Trip Seconds', 'Trip Miles', 'Pickup Census Tract',\n",
       "       'Dropoff Census Tract', 'Pickup Community Area',\n",
       "       'Dropoff Community Area', 'Fare', 'Tips', 'Tolls', 'Extras',\n",
       "       'Trip Total', 'Payment Type', 'Company', 'Pickup Centroid Latitude',\n",
       "       'Pickup Centroid Longitude', 'Pickup Centroid Location',\n",
       "       'Dropoff Centroid Latitude', 'Dropoff Centroid Longitude',\n",
       "       'Dropoff Centroid  Location'],\n",
       "      dtype='object')"
      ]
     },
     "execution_count": 4,
     "metadata": {},
     "output_type": "execute_result"
    }
   ],
   "source": [
    "year = 2021\n",
    "df = pd.read_csv(os.path.join(str(year), \"./chicago_taxi_cleaned.csv\"))\n",
    "print(\"There are {} data points\".format(len(df)))\n",
    "df.columns"
   ]
  },
  {
   "cell_type": "code",
   "execution_count": 5,
   "id": "0e40ebf5",
   "metadata": {},
   "outputs": [],
   "source": [
    "# Encoding categorical variables\n",
    "\n",
    "from datetime import datetime, timedelta\n",
    "\n",
    "def datetime_range(start, end, delta):\n",
    "    current = start\n",
    "    while current < end:\n",
    "        yield current\n",
    "        current += delta\n",
    "\n",
    "\n",
    "def encode_cat_variables(df):\n",
    "\n",
    "    \n",
    "    # Converting to datetime format\n",
    "    \n",
    "    dtformat = \"%m/%d/%Y %I:%M:%S %p\"\n",
    "    tformat = '%H:%M:%S'\n",
    "    dformat = \"%m/%d/%Y\"\n",
    "\n",
    "    df[\"Trip Start Timestamp\"] = pd.to_datetime(df[\"Trip Start Timestamp\"], format=dtformat)\n",
    "    df[\"Trip End Timestamp\"] = pd.to_datetime(df[\"Trip End Timestamp\"], format=dtformat)\n",
    "    \n",
    "    df[\"Trip Start Time\"] = df[\"Trip Start Timestamp\"].dt.time.astype('str')\n",
    "    df[\"Trip End Time\"] = df[\"Trip End Timestamp\"].dt.time.astype('str')\n",
    "\n",
    "    df['month'] = df['Trip Start Timestamp'].dt.month\n",
    "    df['weekday'] = df['Trip Start Timestamp'].dt.day_name()\n",
    "    \n",
    "    # Encoding date time information\n",
    "    \n",
    "    # There are 96 15-minutes interval from 00:00 to 23:45\n",
    "    time_encoder = LabelEncoder().fit([dt.strftime('%H:%M:%S') for dt in \n",
    "           datetime_range(datetime(2016, 9, 1, 0), datetime(2016, 9, 1, 23, 59), \n",
    "           timedelta(minutes=15))])\n",
    "    \n",
    "    df[\"Trip Start Time\"] = time_encoder.transform(df[\"Trip Start Time\"]) / 95\n",
    "    df[\"Trip End Time\"] = time_encoder.transform(df[\"Trip End Time\"]) / 95\n",
    "    \n",
    "    # Encoding month and day of the week\n",
    "    month_encoder = LabelEncoder().fit(np.arange(1, 13))\n",
    "    df['month'] = LabelEncoder().fit(np.arange(1, 13)).transform(df['month'])\n",
    "    df['weekday'] = LabelEncoder().fit(['Monday', 'Tuesday', 'Wednesday', 'Thursday', 'Friday', \n",
    "                                        'Saturday', 'Sunday']).transform(df['weekday'])\n",
    "                                        \n",
    "    df[\"Pickup Community Area\"] = df[\"Pickup Community Area\"].fillna(78).astype('int')\n",
    "    df[\"Dropoff Community Area\"] = df[\"Dropoff Community Area\"].fillna(78).astype('int')\n",
    "\n",
    "    df[\"Payment Type\"] = df[\"Payment Type\"].fillna('Unknown')\n",
    "    df[\"Payment Type\"] = LabelEncoder().fit(['Cash', 'Unknown', 'Credit Card', 'Prcard', 'Mobile'])\\\n",
    "        .transform(df[\"Payment Type\"])\n",
    "    \n",
    "    return df\n",
    "    "
   ]
  },
  {
   "cell_type": "code",
   "execution_count": 6,
   "id": "d25332ca",
   "metadata": {
    "scrolled": false
   },
   "outputs": [],
   "source": [
    "df = encode_cat_variables(df)"
   ]
  },
  {
   "cell_type": "code",
   "execution_count": 7,
   "id": "5b4a41fe",
   "metadata": {},
   "outputs": [
    {
     "data": {
      "text/html": [
       "<div>\n",
       "<style scoped>\n",
       "    .dataframe tbody tr th:only-of-type {\n",
       "        vertical-align: middle;\n",
       "    }\n",
       "\n",
       "    .dataframe tbody tr th {\n",
       "        vertical-align: top;\n",
       "    }\n",
       "\n",
       "    .dataframe thead th {\n",
       "        text-align: right;\n",
       "    }\n",
       "</style>\n",
       "<table border=\"1\" class=\"dataframe\">\n",
       "  <thead>\n",
       "    <tr style=\"text-align: right;\">\n",
       "      <th></th>\n",
       "      <th>Trip ID</th>\n",
       "      <th>Taxi ID</th>\n",
       "      <th>Trip Start Timestamp</th>\n",
       "      <th>Trip End Timestamp</th>\n",
       "      <th>Trip Seconds</th>\n",
       "      <th>Trip Miles</th>\n",
       "      <th>Pickup Census Tract</th>\n",
       "      <th>Dropoff Census Tract</th>\n",
       "      <th>Pickup Community Area</th>\n",
       "      <th>Dropoff Community Area</th>\n",
       "      <th>...</th>\n",
       "      <th>Pickup Centroid Latitude</th>\n",
       "      <th>Pickup Centroid Longitude</th>\n",
       "      <th>Pickup Centroid Location</th>\n",
       "      <th>Dropoff Centroid Latitude</th>\n",
       "      <th>Dropoff Centroid Longitude</th>\n",
       "      <th>Dropoff Centroid  Location</th>\n",
       "      <th>Trip Start Time</th>\n",
       "      <th>Trip End Time</th>\n",
       "      <th>month</th>\n",
       "      <th>weekday</th>\n",
       "    </tr>\n",
       "  </thead>\n",
       "  <tbody>\n",
       "    <tr>\n",
       "      <th>0</th>\n",
       "      <td>02fc5d8c3e8525a49b7514bd6c2b3301c2d6aa79</td>\n",
       "      <td>7e179f8ef66ae99ec2d1ec89224e0b7ee5469fe5627f6d...</td>\n",
       "      <td>2021-01-01</td>\n",
       "      <td>2021-01-01 00:15:00</td>\n",
       "      <td>1021.0</td>\n",
       "      <td>3.17</td>\n",
       "      <td>NaN</td>\n",
       "      <td>NaN</td>\n",
       "      <td>78</td>\n",
       "      <td>4</td>\n",
       "      <td>...</td>\n",
       "      <td>NaN</td>\n",
       "      <td>NaN</td>\n",
       "      <td>NaN</td>\n",
       "      <td>41.975171</td>\n",
       "      <td>-87.687516</td>\n",
       "      <td>POINT (-87.6875155152 41.9751709433)</td>\n",
       "      <td>0.0</td>\n",
       "      <td>0.010526</td>\n",
       "      <td>0</td>\n",
       "      <td>0</td>\n",
       "    </tr>\n",
       "    <tr>\n",
       "      <th>1</th>\n",
       "      <td>4bcfcfa78f372b705214ee2cba9c765ad6ba5161</td>\n",
       "      <td>31261f6e7fc645eff98c7964c7ea71a0ea7e387a6bd7f8...</td>\n",
       "      <td>2021-01-01</td>\n",
       "      <td>2021-01-01 00:00:00</td>\n",
       "      <td>120.0</td>\n",
       "      <td>0.10</td>\n",
       "      <td>NaN</td>\n",
       "      <td>NaN</td>\n",
       "      <td>8</td>\n",
       "      <td>8</td>\n",
       "      <td>...</td>\n",
       "      <td>41.899602</td>\n",
       "      <td>-87.633308</td>\n",
       "      <td>POINT (-87.6333080367 41.899602111)</td>\n",
       "      <td>41.899602</td>\n",
       "      <td>-87.633308</td>\n",
       "      <td>POINT (-87.6333080367 41.899602111)</td>\n",
       "      <td>0.0</td>\n",
       "      <td>0.000000</td>\n",
       "      <td>0</td>\n",
       "      <td>0</td>\n",
       "    </tr>\n",
       "    <tr>\n",
       "      <th>2</th>\n",
       "      <td>820a917a49280f0ee5ba61802ae5d13c55bf51ed</td>\n",
       "      <td>7476a493f34aa1075570e89104cdaf3aaf5c0fd4679382...</td>\n",
       "      <td>2021-01-01</td>\n",
       "      <td>2021-01-01 00:15:00</td>\n",
       "      <td>960.0</td>\n",
       "      <td>10.60</td>\n",
       "      <td>NaN</td>\n",
       "      <td>NaN</td>\n",
       "      <td>33</td>\n",
       "      <td>78</td>\n",
       "      <td>...</td>\n",
       "      <td>41.857184</td>\n",
       "      <td>-87.620335</td>\n",
       "      <td>POINT (-87.6203346241 41.8571838585)</td>\n",
       "      <td>NaN</td>\n",
       "      <td>NaN</td>\n",
       "      <td>NaN</td>\n",
       "      <td>0.0</td>\n",
       "      <td>0.010526</td>\n",
       "      <td>0</td>\n",
       "      <td>0</td>\n",
       "    </tr>\n",
       "    <tr>\n",
       "      <th>3</th>\n",
       "      <td>855259d1bc129f6370f038aa910067972eeae037</td>\n",
       "      <td>0aba795cd29b34ff868043bc923a341f37c4f6d7afabe4...</td>\n",
       "      <td>2021-01-01</td>\n",
       "      <td>2021-01-01 00:15:00</td>\n",
       "      <td>900.0</td>\n",
       "      <td>0.30</td>\n",
       "      <td>NaN</td>\n",
       "      <td>NaN</td>\n",
       "      <td>28</td>\n",
       "      <td>22</td>\n",
       "      <td>...</td>\n",
       "      <td>41.874005</td>\n",
       "      <td>-87.663518</td>\n",
       "      <td>POINT (-87.6635175498 41.874005383)</td>\n",
       "      <td>41.922761</td>\n",
       "      <td>-87.699155</td>\n",
       "      <td>POINT (-87.6991553432 41.9227606205)</td>\n",
       "      <td>0.0</td>\n",
       "      <td>0.010526</td>\n",
       "      <td>0</td>\n",
       "      <td>0</td>\n",
       "    </tr>\n",
       "    <tr>\n",
       "      <th>4</th>\n",
       "      <td>88194fab0a0a28df1b87e9f358143197d004d4d9</td>\n",
       "      <td>e11ecc8e74a2d3cbd2e9f58151ed09c81587cb491c50f6...</td>\n",
       "      <td>2021-01-01</td>\n",
       "      <td>2021-01-01 00:15:00</td>\n",
       "      <td>1140.0</td>\n",
       "      <td>4.30</td>\n",
       "      <td>NaN</td>\n",
       "      <td>NaN</td>\n",
       "      <td>6</td>\n",
       "      <td>4</td>\n",
       "      <td>...</td>\n",
       "      <td>41.944227</td>\n",
       "      <td>-87.655998</td>\n",
       "      <td>POINT (-87.6559981815 41.9442266014)</td>\n",
       "      <td>41.975171</td>\n",
       "      <td>-87.687516</td>\n",
       "      <td>POINT (-87.6875155152 41.9751709433)</td>\n",
       "      <td>0.0</td>\n",
       "      <td>0.010526</td>\n",
       "      <td>0</td>\n",
       "      <td>0</td>\n",
       "    </tr>\n",
       "  </tbody>\n",
       "</table>\n",
       "<p>5 rows × 27 columns</p>\n",
       "</div>"
      ],
      "text/plain": [
       "                                    Trip ID  \\\n",
       "0  02fc5d8c3e8525a49b7514bd6c2b3301c2d6aa79   \n",
       "1  4bcfcfa78f372b705214ee2cba9c765ad6ba5161   \n",
       "2  820a917a49280f0ee5ba61802ae5d13c55bf51ed   \n",
       "3  855259d1bc129f6370f038aa910067972eeae037   \n",
       "4  88194fab0a0a28df1b87e9f358143197d004d4d9   \n",
       "\n",
       "                                             Taxi ID Trip Start Timestamp  \\\n",
       "0  7e179f8ef66ae99ec2d1ec89224e0b7ee5469fe5627f6d...           2021-01-01   \n",
       "1  31261f6e7fc645eff98c7964c7ea71a0ea7e387a6bd7f8...           2021-01-01   \n",
       "2  7476a493f34aa1075570e89104cdaf3aaf5c0fd4679382...           2021-01-01   \n",
       "3  0aba795cd29b34ff868043bc923a341f37c4f6d7afabe4...           2021-01-01   \n",
       "4  e11ecc8e74a2d3cbd2e9f58151ed09c81587cb491c50f6...           2021-01-01   \n",
       "\n",
       "   Trip End Timestamp  Trip Seconds  Trip Miles  Pickup Census Tract  \\\n",
       "0 2021-01-01 00:15:00        1021.0        3.17                  NaN   \n",
       "1 2021-01-01 00:00:00         120.0        0.10                  NaN   \n",
       "2 2021-01-01 00:15:00         960.0       10.60                  NaN   \n",
       "3 2021-01-01 00:15:00         900.0        0.30                  NaN   \n",
       "4 2021-01-01 00:15:00        1140.0        4.30                  NaN   \n",
       "\n",
       "   Dropoff Census Tract  Pickup Community Area  Dropoff Community Area  ...  \\\n",
       "0                   NaN                     78                       4  ...   \n",
       "1                   NaN                      8                       8  ...   \n",
       "2                   NaN                     33                      78  ...   \n",
       "3                   NaN                     28                      22  ...   \n",
       "4                   NaN                      6                       4  ...   \n",
       "\n",
       "   Pickup Centroid Latitude  Pickup Centroid Longitude  \\\n",
       "0                       NaN                        NaN   \n",
       "1                 41.899602                 -87.633308   \n",
       "2                 41.857184                 -87.620335   \n",
       "3                 41.874005                 -87.663518   \n",
       "4                 41.944227                 -87.655998   \n",
       "\n",
       "               Pickup Centroid Location  Dropoff Centroid Latitude  \\\n",
       "0                                   NaN                  41.975171   \n",
       "1   POINT (-87.6333080367 41.899602111)                  41.899602   \n",
       "2  POINT (-87.6203346241 41.8571838585)                        NaN   \n",
       "3   POINT (-87.6635175498 41.874005383)                  41.922761   \n",
       "4  POINT (-87.6559981815 41.9442266014)                  41.975171   \n",
       "\n",
       "   Dropoff Centroid Longitude            Dropoff Centroid  Location  \\\n",
       "0                  -87.687516  POINT (-87.6875155152 41.9751709433)   \n",
       "1                  -87.633308   POINT (-87.6333080367 41.899602111)   \n",
       "2                         NaN                                   NaN   \n",
       "3                  -87.699155  POINT (-87.6991553432 41.9227606205)   \n",
       "4                  -87.687516  POINT (-87.6875155152 41.9751709433)   \n",
       "\n",
       "  Trip Start Time  Trip End Time  month weekday  \n",
       "0             0.0       0.010526      0       0  \n",
       "1             0.0       0.000000      0       0  \n",
       "2             0.0       0.010526      0       0  \n",
       "3             0.0       0.010526      0       0  \n",
       "4             0.0       0.010526      0       0  \n",
       "\n",
       "[5 rows x 27 columns]"
      ]
     },
     "execution_count": 7,
     "metadata": {},
     "output_type": "execute_result"
    }
   ],
   "source": [
    "df.head()"
   ]
  },
  {
   "cell_type": "code",
   "execution_count": 8,
   "id": "368f48a9",
   "metadata": {},
   "outputs": [
    {
     "name": "stdout",
     "output_type": "stream",
     "text": [
      "1732249 577417 989857\n"
     ]
    }
   ],
   "source": [
    "# We set aside 30% of the data to be the test set \n",
    "# Then we further split 25% of the remaining data to be the validation set\n",
    "\n",
    "train_val_df, test_df = train_test_split(df, test_size=0.3)\n",
    "train_df, val_df = train_test_split(train_val_df, test_size=0.25)\n",
    "\n",
    "print(len(train_df), len(val_df), len(test_df))"
   ]
  },
  {
   "cell_type": "code",
   "execution_count": 9,
   "id": "ea3f3877",
   "metadata": {},
   "outputs": [],
   "source": [
    "# 5 payment type variables\n",
    "# 78 community type variables\n",
    "# 12 months\n",
    "# 7 days in a week\n",
    "\n",
    "numerical_features = ['Trip Miles', 'Trip Seconds', 'Trip Start Time', 'Trip End Time']\n",
    "cat_features = ['Pickup Community Area', 'Dropoff Community Area', 'Payment Type', 'month', 'weekday']\n",
    "\n",
    "normalizer = StandardScaler().fit(train_df[numerical_features])\n",
    "train_df.loc[:, numerical_features] = normalizer.transform(train_df[numerical_features]).astype('float32')\n",
    "val_df.loc[:, numerical_features] = normalizer.transform(val_df[numerical_features]).astype('float32')\n",
    "test_df.loc[:, numerical_features] = normalizer.transform(test_df[numerical_features]).astype('float32')"
   ]
  },
  {
   "cell_type": "code",
   "execution_count": 10,
   "id": "1302e4fa",
   "metadata": {},
   "outputs": [
    {
     "data": {
      "text/plain": [
       "['../scaler.joblib']"
      ]
     },
     "execution_count": 10,
     "metadata": {},
     "output_type": "execute_result"
    }
   ],
   "source": [
    "joblib.dump(normalizer, \"./scaler.joblib\")"
   ]
  },
  {
   "cell_type": "code",
   "execution_count": 10,
   "id": "622170ac",
   "metadata": {},
   "outputs": [],
   "source": [
    "num_workers = 25\n",
    "batch_size = 512\n",
    "\n",
    "train_ds = TabularDataset(train_df, numerical_features, cat_features)\n",
    "val_ds = TabularDataset(val_df, numerical_features, cat_features)\n",
    "test_ds = TabularDataset(test_df, numerical_features, cat_features)\n",
    "\n",
    "train_dl = DataLoader(train_ds, batch_size=batch_size, num_workers=num_workers, shuffle=True)\n",
    "val_dl = DataLoader(val_ds, batch_size=batch_size, num_workers=num_workers, shuffle=True)\n",
    "test_dl = DataLoader(test_ds, batch_size=batch_size, num_workers=num_workers, shuffle=True)"
   ]
  },
  {
   "cell_type": "code",
   "execution_count": 11,
   "id": "71c7446f",
   "metadata": {},
   "outputs": [],
   "source": [
    "class FarePredictor(nn.Module):\n",
    "    \n",
    "    def __init__(self, numeric_features, embedding_in_channels, embedding_out_channels, hidden_layers):\n",
    "        super(FarePredictor, self).__init__()\n",
    "        self.numeric_features = numeric_features\n",
    "        self.embedding_in_channels = embedding_in_channels\n",
    "        self.embedding_out_channels = embedding_out_channels\n",
    "        \n",
    "        self.embedding_layers = nn.ModuleList([nn.Embedding(in_channel, out_channel) for in_channel, out_channel\n",
    "                                               in zip(embedding_in_channels, embedding_out_channels)])\n",
    "        \n",
    "        in_channel = len(numeric_features) + np.sum(embedding_out_channels)\n",
    "        self.layers = []\n",
    "        for out_channel in hidden_layers:\n",
    "            self.layers.append(nn.Linear(in_channel, out_channel))\n",
    "            self.layers.append(nn.BatchNorm1d(out_channel))\n",
    "            self.layers.append(nn.ReLU())\n",
    "            in_channel = out_channel\n",
    "        self.layers.append(nn.Linear(out_channel, 1))\n",
    "        self.layers = nn.Sequential(*self.layers)\n",
    "    \n",
    "    def forward(self, numeric_features, cat_features):\n",
    "        cat_features = torch.cat([embedding_layer(cat_feature.squeeze(1)) for embedding_layer, cat_feature in\n",
    "                                  zip(self.embedding_layers, cat_features.split(1, dim=1))], dim=1)\n",
    "        features = torch.cat([numeric_features, cat_features], dim=1).float()\n",
    "        return self.layers(features)"
   ]
  },
  {
   "cell_type": "code",
   "execution_count": 54,
   "id": "9ed5da5c",
   "metadata": {},
   "outputs": [],
   "source": [
    "from time import time\n",
    "from sklearn.metrics import mean_squared_error, mean_absolute_error\n",
    "\n",
    "def update_metric(running_metric, curr_metric, smoothing_factor=0.9):\n",
    "    if running_metric == 0:\n",
    "        return curr_metric\n",
    "    else:\n",
    "        return smoothing_factor * running_metric + (1 - smoothing_factor) * curr_metric\n",
    "    \n",
    "    \n",
    "def print_clf_metrics(train_stats, val_stats, curr_epoch, total_epochs):\n",
    "                      \n",
    "\n",
    "    print(\"Epoch:[{epoch}/{n_epoch}]\".format(epoch=curr_epoch, n_epoch=total_epochs))\n",
    "\n",
    "    train_results = \"\"\n",
    "    for metric, result in train_stats.items():\n",
    "        train_results += \"{}:{:.3f} \\t \".format(metric, result)\n",
    "    \n",
    "    print(train_results)\n",
    "\n",
    "    val_results = \"\"\n",
    "    for metric, result in val_stats.items():\n",
    "        val_results += \"{}:{:.3f} \\t \".format(metric, result)\n",
    "    \n",
    "    print(val_results)\n",
    "    \n",
    "    print(\"=====================================\")\n",
    "    \n",
    "    \n",
    "def train_classification_one_epoch(model, train_dl, criterion,\n",
    "                                   optimizer, device):\n",
    "    \n",
    "    start = time()\n",
    "    running_loss = 0 \n",
    "    running_mae = 0\n",
    "    running_rmse = 0\n",
    "    \n",
    "    model.train()\n",
    "    \n",
    "    for _, data in tqdm(enumerate(train_dl), total=len(train_dl)):\n",
    "        \n",
    "        num_features, cat_features, labels = data\n",
    "        \n",
    "        num_features = num_features.to(device)\n",
    "        cat_features = cat_features.to(device)\n",
    "        labels = labels.to(device)\n",
    "            \n",
    "        outputs = model(num_features, cat_features)\n",
    "        loss = criterion(outputs.squeeze(1), labels.float())\n",
    "        loss.backward()\n",
    "        torch.nn.utils.clip_grad_norm_(model.parameters(), max_norm=2.0).item()\n",
    "        optimizer.step()\n",
    "        optimizer.zero_grad()\n",
    "        \n",
    "        labels = labels.detach().cpu().numpy()\n",
    "        outputs = outputs.squeeze(1).detach().cpu().numpy()\n",
    "        \n",
    "        running_loss = update_metric(running_loss, loss.detach().cpu().item(), smoothing_factor=0.99)\n",
    "        running_mae = update_metric(running_mae, mean_absolute_error(labels, outputs))\n",
    "        running_rmse = update_metric(running_rmse, mean_squared_error(labels, outputs, \n",
    "                                                                      squared=False))\n",
    "    train_time = time() - start\n",
    "    \n",
    "    return {'Train Loss': running_loss,\n",
    "            'Train MAE': running_mae,\n",
    "            'Train RMSE': running_rmse,\n",
    "            'Train Time': train_time}\n",
    "\n",
    "\n",
    "def validate(model, val_dl, criterion, device):\n",
    "    \n",
    "    start = time()\n",
    "    \n",
    "    val_loss = []\n",
    "    val_outs = []\n",
    "    val_labels = []\n",
    "    \n",
    "    model.eval()\n",
    "\n",
    "    with torch.no_grad():\n",
    "        for _, data in enumerate(val_dl):\n",
    "            num_features, cat_features, labels = data\n",
    "            \n",
    "            num_features = num_features.to(device)\n",
    "            cat_features = cat_features.to(device)\n",
    "            labels = labels.to(device)\n",
    "            \n",
    "            outputs = model(num_features, cat_features)\n",
    "            val_loss.append(criterion(outputs.squeeze(1), labels.float()).detach().cpu().item())\n",
    "            \n",
    "            outputs = outputs.squeeze(1).detach().cpu().numpy()\n",
    "            labels = labels.detach().cpu().numpy()\n",
    "            val_outs = np.append(val_outs, outputs)\n",
    "            val_labels = np.append(val_labels, labels)\n",
    "            \n",
    "    compute_time = time() - start\n",
    "    val_loss = np.mean(val_loss)\n",
    "    val_mae = mean_absolute_error(val_labels, val_outs)\n",
    "    val_rmse = mean_squared_error(val_labels, val_outs, squared=False)\n",
    "    \n",
    "    return {'Val Loss': val_loss,\n",
    "            'Val MAE': val_mae,\n",
    "            'Val RMSE': val_rmse,\n",
    "            'Val Time': compute_time}\n",
    "\n",
    "\n",
    "def train(model, train_dl, val_dl, criterion,\n",
    "          optimizer, total_epochs, device, model_save_dir, \n",
    "          save_iter=5, resume_epoch=0):\n",
    "\n",
    "    all_train_loss = []\n",
    "    all_val_loss = []\n",
    "    \n",
    "    start_epoch = 1 if resume_epoch == 0 else resume_epoch\n",
    "    for epoch in range(start_epoch, total_epochs + 1):  # loop over the dataset multiple times\n",
    "        \n",
    "        train_stats = train_classification_one_epoch(model, train_dl, criterion, optimizer, device)\n",
    "        val_stats = validate(model, val_dl, criterion, device)\n",
    "\n",
    "        train_loss = train_stats['Train Loss']\n",
    "        val_loss = val_stats['Val Loss']\n",
    "        \n",
    "        print_clf_metrics(train_stats, val_stats, epoch, total_epochs)\n",
    "\n",
    "        all_train_loss.append(train_loss)\n",
    "        all_val_loss.append(val_loss)\n",
    "        \n",
    "        if epoch % save_iter == 0:\n",
    "            check_point = {'epoch': epoch, 'model': model.state_dict(), 'optimizer': optimizer.state_dict(), \n",
    "                           'Train Loss': all_train_loss, 'Val Loss': all_val_loss}\n",
    "\n",
    "            save_path = os.path.join(model_save_dir, str(epoch))\n",
    "            os.makedirs(save_path)\n",
    "            torch.save(check_point, os.path.join(save_path, \"checkpoint_{}.pth\".format(epoch)))\n",
    "\n",
    "    return np.array(all_train_loss), np.array(all_val_loss)"
   ]
  },
  {
   "cell_type": "code",
   "execution_count": 13,
   "id": "3a110cac",
   "metadata": {},
   "outputs": [],
   "source": [
    "# 5 payment type variables\n",
    "# 79 community type variables\n",
    "# 12 months\n",
    "# 7 days in a week\n",
    "\n",
    "embedding_in_channels = [79, 79, 5, 12, 7]\n",
    "embedding_out_channels = [2, 2, 2, 2, 2]\n",
    "hidden_layers = [32, 64, 32]\n",
    "\n",
    "    \n",
    "os.environ[\"CUDA_VISIBLE_DEVICES\"] = \"0, 1, 2, 3\"\n",
    "device = 'cuda'\n",
    "\n",
    "model = FarePredictor(numerical_features, embedding_in_channels, embedding_out_channels, hidden_layers)\n",
    "model = nn.DataParallel(model).to(device)\n",
    "\n",
    "optim = AdamW(model.parameters(), lr=4e-4, weight_decay=4e-5)"
   ]
  },
  {
   "cell_type": "code",
   "execution_count": 14,
   "id": "32bb5670",
   "metadata": {},
   "outputs": [
    {
     "data": {
      "application/vnd.jupyter.widget-view+json": {
       "model_id": "52200353338d4ce4be3b9959e848c199",
       "version_major": 2,
       "version_minor": 0
      },
      "text/plain": [
       "  0%|          | 0/3384 [00:00<?, ?it/s]"
      ]
     },
     "metadata": {},
     "output_type": "display_data"
    },
    {
     "name": "stdout",
     "output_type": "stream",
     "text": [
      "Epoch:[1/30]\n",
      "Train Loss:14.537 \t Train MAE:1.959 \t Train RMSE:3.704 \t Train Time:99.919 \t \n",
      "Val Loss:12.893 \t Val MAE:1.553 \t Val RMSE:3.591 \t Val Time:18.990 \t \n",
      "=====================================\n"
     ]
    },
    {
     "data": {
      "application/vnd.jupyter.widget-view+json": {
       "model_id": "6cddcfe06a114982b9281112ebd50168",
       "version_major": 2,
       "version_minor": 0
      },
      "text/plain": [
       "  0%|          | 0/3384 [00:00<?, ?it/s]"
      ]
     },
     "metadata": {},
     "output_type": "display_data"
    },
    {
     "name": "stdout",
     "output_type": "stream",
     "text": [
      "Epoch:[2/30]\n",
      "Train Loss:13.167 \t Train MAE:1.885 \t Train RMSE:3.665 \t Train Time:95.750 \t \n",
      "Val Loss:11.747 \t Val MAE:1.494 \t Val RMSE:3.427 \t Val Time:19.237 \t \n",
      "=====================================\n"
     ]
    },
    {
     "data": {
      "application/vnd.jupyter.widget-view+json": {
       "model_id": "9d5688cfb0d24cd9b461a88eaecdfaa3",
       "version_major": 2,
       "version_minor": 0
      },
      "text/plain": [
       "  0%|          | 0/3384 [00:00<?, ?it/s]"
      ]
     },
     "metadata": {},
     "output_type": "display_data"
    },
    {
     "name": "stdout",
     "output_type": "stream",
     "text": [
      "Epoch:[3/30]\n",
      "Train Loss:12.130 \t Train MAE:1.673 \t Train RMSE:3.425 \t Train Time:94.158 \t \n",
      "Val Loss:10.912 \t Val MAE:1.303 \t Val RMSE:3.303 \t Val Time:19.227 \t \n",
      "=====================================\n"
     ]
    },
    {
     "data": {
      "application/vnd.jupyter.widget-view+json": {
       "model_id": "3b03b4b0127449f390bb0d2fc92c067b",
       "version_major": 2,
       "version_minor": 0
      },
      "text/plain": [
       "  0%|          | 0/3384 [00:00<?, ?it/s]"
      ]
     },
     "metadata": {},
     "output_type": "display_data"
    },
    {
     "name": "stdout",
     "output_type": "stream",
     "text": [
      "Epoch:[4/30]\n",
      "Train Loss:11.274 \t Train MAE:1.557 \t Train RMSE:3.260 \t Train Time:94.581 \t \n",
      "Val Loss:10.226 \t Val MAE:1.201 \t Val RMSE:3.198 \t Val Time:19.969 \t \n",
      "=====================================\n"
     ]
    },
    {
     "data": {
      "application/vnd.jupyter.widget-view+json": {
       "model_id": "351cd93b14d3497aa57aeb58ee90cc37",
       "version_major": 2,
       "version_minor": 0
      },
      "text/plain": [
       "  0%|          | 0/3384 [00:00<?, ?it/s]"
      ]
     },
     "metadata": {},
     "output_type": "display_data"
    },
    {
     "name": "stdout",
     "output_type": "stream",
     "text": [
      "Epoch:[5/30]\n",
      "Train Loss:10.846 \t Train MAE:1.574 \t Train RMSE:3.220 \t Train Time:93.892 \t \n",
      "Val Loss:10.828 \t Val MAE:1.480 \t Val RMSE:3.291 \t Val Time:18.997 \t \n",
      "=====================================\n"
     ]
    },
    {
     "data": {
      "application/vnd.jupyter.widget-view+json": {
       "model_id": "b4cf54ab25344041b8d1fb274c2b3b3a",
       "version_major": 2,
       "version_minor": 0
      },
      "text/plain": [
       "  0%|          | 0/3384 [00:00<?, ?it/s]"
      ]
     },
     "metadata": {},
     "output_type": "display_data"
    },
    {
     "name": "stdout",
     "output_type": "stream",
     "text": [
      "Epoch:[6/30]\n",
      "Train Loss:10.781 \t Train MAE:1.509 \t Train RMSE:3.404 \t Train Time:97.238 \t \n",
      "Val Loss:9.409 \t Val MAE:1.195 \t Val RMSE:3.067 \t Val Time:19.065 \t \n",
      "=====================================\n"
     ]
    },
    {
     "data": {
      "application/vnd.jupyter.widget-view+json": {
       "model_id": "5850f8a030e24f00be6e34ce9f27222c",
       "version_major": 2,
       "version_minor": 0
      },
      "text/plain": [
       "  0%|          | 0/3384 [00:00<?, ?it/s]"
      ]
     },
     "metadata": {},
     "output_type": "display_data"
    },
    {
     "name": "stdout",
     "output_type": "stream",
     "text": [
      "Epoch:[7/30]\n",
      "Train Loss:9.586 \t Train MAE:1.364 \t Train RMSE:2.910 \t Train Time:95.098 \t \n",
      "Val Loss:9.943 \t Val MAE:1.340 \t Val RMSE:3.153 \t Val Time:19.038 \t \n",
      "=====================================\n"
     ]
    },
    {
     "data": {
      "application/vnd.jupyter.widget-view+json": {
       "model_id": "049048e417a94fcaa322d4b38e7a4222",
       "version_major": 2,
       "version_minor": 0
      },
      "text/plain": [
       "  0%|          | 0/3384 [00:00<?, ?it/s]"
      ]
     },
     "metadata": {},
     "output_type": "display_data"
    },
    {
     "name": "stdout",
     "output_type": "stream",
     "text": [
      "Epoch:[8/30]\n",
      "Train Loss:9.789 \t Train MAE:1.426 \t Train RMSE:3.034 \t Train Time:94.118 \t \n",
      "Val Loss:9.235 \t Val MAE:1.242 \t Val RMSE:3.039 \t Val Time:19.288 \t \n",
      "=====================================\n"
     ]
    },
    {
     "data": {
      "application/vnd.jupyter.widget-view+json": {
       "model_id": "469a84430c9b4e9db24e3f9ef9534029",
       "version_major": 2,
       "version_minor": 0
      },
      "text/plain": [
       "  0%|          | 0/3384 [00:00<?, ?it/s]"
      ]
     },
     "metadata": {},
     "output_type": "display_data"
    },
    {
     "name": "stdout",
     "output_type": "stream",
     "text": [
      "Epoch:[9/30]\n",
      "Train Loss:9.414 \t Train MAE:1.381 \t Train RMSE:2.882 \t Train Time:95.309 \t \n",
      "Val Loss:8.841 \t Val MAE:1.123 \t Val RMSE:2.974 \t Val Time:19.216 \t \n",
      "=====================================\n"
     ]
    },
    {
     "data": {
      "application/vnd.jupyter.widget-view+json": {
       "model_id": "afa70b2642e84b4d928a07d34d97181c",
       "version_major": 2,
       "version_minor": 0
      },
      "text/plain": [
       "  0%|          | 0/3384 [00:00<?, ?it/s]"
      ]
     },
     "metadata": {},
     "output_type": "display_data"
    },
    {
     "name": "stdout",
     "output_type": "stream",
     "text": [
      "Epoch:[10/30]\n",
      "Train Loss:9.351 \t Train MAE:1.344 \t Train RMSE:2.931 \t Train Time:95.753 \t \n",
      "Val Loss:9.265 \t Val MAE:1.214 \t Val RMSE:3.044 \t Val Time:19.254 \t \n",
      "=====================================\n"
     ]
    },
    {
     "data": {
      "application/vnd.jupyter.widget-view+json": {
       "model_id": "16c05bcfe51d4c918101e081b848d3cb",
       "version_major": 2,
       "version_minor": 0
      },
      "text/plain": [
       "  0%|          | 0/3384 [00:00<?, ?it/s]"
      ]
     },
     "metadata": {},
     "output_type": "display_data"
    },
    {
     "name": "stdout",
     "output_type": "stream",
     "text": [
      "Epoch:[11/30]\n",
      "Train Loss:9.545 \t Train MAE:1.371 \t Train RMSE:3.132 \t Train Time:94.823 \t \n",
      "Val Loss:8.697 \t Val MAE:1.122 \t Val RMSE:2.949 \t Val Time:19.065 \t \n",
      "=====================================\n"
     ]
    },
    {
     "data": {
      "application/vnd.jupyter.widget-view+json": {
       "model_id": "eb5379575cd342a19d37251e24fe38f0",
       "version_major": 2,
       "version_minor": 0
      },
      "text/plain": [
       "  0%|          | 0/3384 [00:00<?, ?it/s]"
      ]
     },
     "metadata": {},
     "output_type": "display_data"
    },
    {
     "name": "stdout",
     "output_type": "stream",
     "text": [
      "Epoch:[12/30]\n",
      "Train Loss:9.326 \t Train MAE:1.358 \t Train RMSE:3.080 \t Train Time:93.904 \t \n",
      "Val Loss:8.893 \t Val MAE:1.191 \t Val RMSE:2.982 \t Val Time:19.630 \t \n",
      "=====================================\n"
     ]
    },
    {
     "data": {
      "application/vnd.jupyter.widget-view+json": {
       "model_id": "1ac026c7427c4e7e85674023845dedf8",
       "version_major": 2,
       "version_minor": 0
      },
      "text/plain": [
       "  0%|          | 0/3384 [00:00<?, ?it/s]"
      ]
     },
     "metadata": {},
     "output_type": "display_data"
    },
    {
     "name": "stdout",
     "output_type": "stream",
     "text": [
      "Epoch:[13/30]\n",
      "Train Loss:9.371 \t Train MAE:1.348 \t Train RMSE:3.011 \t Train Time:94.710 \t \n",
      "Val Loss:8.464 \t Val MAE:1.074 \t Val RMSE:2.909 \t Val Time:19.954 \t \n",
      "=====================================\n"
     ]
    },
    {
     "data": {
      "application/vnd.jupyter.widget-view+json": {
       "model_id": "184b6a7aaa834f46be8a9f8cbda0628d",
       "version_major": 2,
       "version_minor": 0
      },
      "text/plain": [
       "  0%|          | 0/3384 [00:00<?, ?it/s]"
      ]
     },
     "metadata": {},
     "output_type": "display_data"
    },
    {
     "name": "stdout",
     "output_type": "stream",
     "text": [
      "Epoch:[14/30]\n",
      "Train Loss:8.839 \t Train MAE:1.217 \t Train RMSE:2.724 \t Train Time:93.984 \t \n",
      "Val Loss:8.424 \t Val MAE:1.050 \t Val RMSE:2.902 \t Val Time:19.050 \t \n",
      "=====================================\n"
     ]
    },
    {
     "data": {
      "application/vnd.jupyter.widget-view+json": {
       "model_id": "b3cceabf8a8644c1bfabf2b3ea714cc0",
       "version_major": 2,
       "version_minor": 0
      },
      "text/plain": [
       "  0%|          | 0/3384 [00:00<?, ?it/s]"
      ]
     },
     "metadata": {},
     "output_type": "display_data"
    },
    {
     "name": "stdout",
     "output_type": "stream",
     "text": [
      "Epoch:[15/30]\n",
      "Train Loss:8.415 \t Train MAE:1.248 \t Train RMSE:2.765 \t Train Time:94.770 \t \n",
      "Val Loss:8.403 \t Val MAE:1.061 \t Val RMSE:2.899 \t Val Time:18.950 \t \n",
      "=====================================\n"
     ]
    },
    {
     "data": {
      "application/vnd.jupyter.widget-view+json": {
       "model_id": "c11dab6a8736467284f6d6a9aa2e1d25",
       "version_major": 2,
       "version_minor": 0
      },
      "text/plain": [
       "  0%|          | 0/3384 [00:00<?, ?it/s]"
      ]
     },
     "metadata": {},
     "output_type": "display_data"
    },
    {
     "name": "stdout",
     "output_type": "stream",
     "text": [
      "Epoch:[16/30]\n",
      "Train Loss:8.569 \t Train MAE:1.258 \t Train RMSE:2.834 \t Train Time:93.318 \t \n",
      "Val Loss:9.077 \t Val MAE:1.230 \t Val RMSE:3.013 \t Val Time:19.160 \t \n",
      "=====================================\n"
     ]
    },
    {
     "data": {
      "application/vnd.jupyter.widget-view+json": {
       "model_id": "593eaaeca60848fab2e73846bd5c3a89",
       "version_major": 2,
       "version_minor": 0
      },
      "text/plain": [
       "  0%|          | 0/3384 [00:00<?, ?it/s]"
      ]
     },
     "metadata": {},
     "output_type": "display_data"
    },
    {
     "name": "stdout",
     "output_type": "stream",
     "text": [
      "Epoch:[17/30]\n",
      "Train Loss:8.627 \t Train MAE:1.290 \t Train RMSE:2.853 \t Train Time:97.023 \t \n",
      "Val Loss:8.182 \t Val MAE:1.046 \t Val RMSE:2.861 \t Val Time:19.090 \t \n",
      "=====================================\n"
     ]
    },
    {
     "data": {
      "application/vnd.jupyter.widget-view+json": {
       "model_id": "b377e5406b164e34afe953eea7680936",
       "version_major": 2,
       "version_minor": 0
      },
      "text/plain": [
       "  0%|          | 0/3384 [00:00<?, ?it/s]"
      ]
     },
     "metadata": {},
     "output_type": "display_data"
    },
    {
     "name": "stdout",
     "output_type": "stream",
     "text": [
      "Epoch:[18/30]\n",
      "Train Loss:9.127 \t Train MAE:1.326 \t Train RMSE:2.935 \t Train Time:94.956 \t \n",
      "Val Loss:8.205 \t Val MAE:1.103 \t Val RMSE:2.865 \t Val Time:19.660 \t \n",
      "=====================================\n"
     ]
    },
    {
     "data": {
      "application/vnd.jupyter.widget-view+json": {
       "model_id": "6934e599375444a0b68b8caf32bd6781",
       "version_major": 2,
       "version_minor": 0
      },
      "text/plain": [
       "  0%|          | 0/3384 [00:00<?, ?it/s]"
      ]
     },
     "metadata": {},
     "output_type": "display_data"
    },
    {
     "name": "stdout",
     "output_type": "stream",
     "text": [
      "Epoch:[19/30]\n",
      "Train Loss:8.854 \t Train MAE:1.200 \t Train RMSE:2.642 \t Train Time:94.952 \t \n",
      "Val Loss:8.572 \t Val MAE:1.160 \t Val RMSE:2.928 \t Val Time:18.767 \t \n",
      "=====================================\n"
     ]
    },
    {
     "data": {
      "application/vnd.jupyter.widget-view+json": {
       "model_id": "bda152f588654daf912a6e743f93d3fa",
       "version_major": 2,
       "version_minor": 0
      },
      "text/plain": [
       "  0%|          | 0/3384 [00:00<?, ?it/s]"
      ]
     },
     "metadata": {},
     "output_type": "display_data"
    },
    {
     "name": "stdout",
     "output_type": "stream",
     "text": [
      "Epoch:[20/30]\n",
      "Train Loss:8.702 \t Train MAE:1.225 \t Train RMSE:2.882 \t Train Time:95.722 \t \n",
      "Val Loss:8.368 \t Val MAE:1.127 \t Val RMSE:2.893 \t Val Time:19.058 \t \n",
      "=====================================\n"
     ]
    },
    {
     "data": {
      "application/vnd.jupyter.widget-view+json": {
       "model_id": "e93a8f4ec0f94241bd88d977c919ae2e",
       "version_major": 2,
       "version_minor": 0
      },
      "text/plain": [
       "  0%|          | 0/3384 [00:00<?, ?it/s]"
      ]
     },
     "metadata": {},
     "output_type": "display_data"
    },
    {
     "name": "stdout",
     "output_type": "stream",
     "text": [
      "Epoch:[21/30]\n",
      "Train Loss:8.318 \t Train MAE:1.222 \t Train RMSE:2.648 \t Train Time:93.182 \t \n",
      "Val Loss:8.021 \t Val MAE:1.050 \t Val RMSE:2.832 \t Val Time:19.165 \t \n",
      "=====================================\n"
     ]
    },
    {
     "data": {
      "application/vnd.jupyter.widget-view+json": {
       "model_id": "ee3c6456aafb47519009ec077930980f",
       "version_major": 2,
       "version_minor": 0
      },
      "text/plain": [
       "  0%|          | 0/3384 [00:00<?, ?it/s]"
      ]
     },
     "metadata": {},
     "output_type": "display_data"
    },
    {
     "name": "stdout",
     "output_type": "stream",
     "text": [
      "Epoch:[22/30]\n",
      "Train Loss:9.365 \t Train MAE:1.328 \t Train RMSE:3.244 \t Train Time:93.670 \t \n",
      "Val Loss:8.521 \t Val MAE:1.147 \t Val RMSE:2.919 \t Val Time:18.936 \t \n",
      "=====================================\n"
     ]
    },
    {
     "data": {
      "application/vnd.jupyter.widget-view+json": {
       "model_id": "4b47203b53cc4eb6a7bd7195f7c9f81f",
       "version_major": 2,
       "version_minor": 0
      },
      "text/plain": [
       "  0%|          | 0/3384 [00:00<?, ?it/s]"
      ]
     },
     "metadata": {},
     "output_type": "display_data"
    },
    {
     "name": "stdout",
     "output_type": "stream",
     "text": [
      "Epoch:[23/30]\n",
      "Train Loss:8.176 \t Train MAE:1.235 \t Train RMSE:2.734 \t Train Time:94.762 \t \n",
      "Val Loss:7.962 \t Val MAE:0.995 \t Val RMSE:2.822 \t Val Time:19.512 \t \n",
      "=====================================\n"
     ]
    },
    {
     "data": {
      "application/vnd.jupyter.widget-view+json": {
       "model_id": "adb663b5eca8497fbce1f00b88e67c78",
       "version_major": 2,
       "version_minor": 0
      },
      "text/plain": [
       "  0%|          | 0/3384 [00:00<?, ?it/s]"
      ]
     },
     "metadata": {},
     "output_type": "display_data"
    },
    {
     "name": "stdout",
     "output_type": "stream",
     "text": [
      "Epoch:[24/30]\n",
      "Train Loss:8.643 \t Train MAE:1.219 \t Train RMSE:2.898 \t Train Time:96.050 \t \n",
      "Val Loss:8.116 \t Val MAE:1.106 \t Val RMSE:2.849 \t Val Time:19.173 \t \n",
      "=====================================\n"
     ]
    },
    {
     "data": {
      "application/vnd.jupyter.widget-view+json": {
       "model_id": "d3a6b8f249d6455e97e5881a319d50ff",
       "version_major": 2,
       "version_minor": 0
      },
      "text/plain": [
       "  0%|          | 0/3384 [00:00<?, ?it/s]"
      ]
     },
     "metadata": {},
     "output_type": "display_data"
    },
    {
     "name": "stdout",
     "output_type": "stream",
     "text": [
      "Epoch:[25/30]\n",
      "Train Loss:8.297 \t Train MAE:1.251 \t Train RMSE:2.805 \t Train Time:95.293 \t \n",
      "Val Loss:8.626 \t Val MAE:1.243 \t Val RMSE:2.937 \t Val Time:19.148 \t \n",
      "=====================================\n"
     ]
    },
    {
     "data": {
      "application/vnd.jupyter.widget-view+json": {
       "model_id": "f50051799d5647a0be1e563e0796dd13",
       "version_major": 2,
       "version_minor": 0
      },
      "text/plain": [
       "  0%|          | 0/3384 [00:00<?, ?it/s]"
      ]
     },
     "metadata": {},
     "output_type": "display_data"
    },
    {
     "name": "stdout",
     "output_type": "stream",
     "text": [
      "Epoch:[26/30]\n",
      "Train Loss:7.800 \t Train MAE:1.175 \t Train RMSE:2.637 \t Train Time:95.033 \t \n",
      "Val Loss:8.552 \t Val MAE:1.214 \t Val RMSE:2.924 \t Val Time:19.013 \t \n",
      "=====================================\n"
     ]
    },
    {
     "data": {
      "application/vnd.jupyter.widget-view+json": {
       "model_id": "dc3eb1486bd2484192b71eb9058efb5e",
       "version_major": 2,
       "version_minor": 0
      },
      "text/plain": [
       "  0%|          | 0/3384 [00:00<?, ?it/s]"
      ]
     },
     "metadata": {},
     "output_type": "display_data"
    },
    {
     "name": "stdout",
     "output_type": "stream",
     "text": [
      "Epoch:[27/30]\n",
      "Train Loss:8.454 \t Train MAE:1.220 \t Train RMSE:2.806 \t Train Time:96.066 \t \n",
      "Val Loss:7.902 \t Val MAE:1.072 \t Val RMSE:2.811 \t Val Time:19.371 \t \n",
      "=====================================\n"
     ]
    },
    {
     "data": {
      "application/vnd.jupyter.widget-view+json": {
       "model_id": "d246e03f62cb4b7096a4cb7a64d242ec",
       "version_major": 2,
       "version_minor": 0
      },
      "text/plain": [
       "  0%|          | 0/3384 [00:00<?, ?it/s]"
      ]
     },
     "metadata": {},
     "output_type": "display_data"
    },
    {
     "name": "stdout",
     "output_type": "stream",
     "text": [
      "Epoch:[28/30]\n",
      "Train Loss:8.350 \t Train MAE:1.290 \t Train RMSE:2.932 \t Train Time:95.181 \t \n",
      "Val Loss:11.180 \t Val MAE:1.795 \t Val RMSE:3.344 \t Val Time:19.347 \t \n",
      "=====================================\n"
     ]
    },
    {
     "data": {
      "application/vnd.jupyter.widget-view+json": {
       "model_id": "5c25e40e20a04567b632980311526089",
       "version_major": 2,
       "version_minor": 0
      },
      "text/plain": [
       "  0%|          | 0/3384 [00:00<?, ?it/s]"
      ]
     },
     "metadata": {},
     "output_type": "display_data"
    },
    {
     "name": "stdout",
     "output_type": "stream",
     "text": [
      "Epoch:[29/30]\n",
      "Train Loss:8.269 \t Train MAE:1.167 \t Train RMSE:2.775 \t Train Time:95.500 \t \n",
      "Val Loss:7.737 \t Val MAE:0.983 \t Val RMSE:2.782 \t Val Time:19.874 \t \n",
      "=====================================\n"
     ]
    },
    {
     "data": {
      "application/vnd.jupyter.widget-view+json": {
       "model_id": "104fe28312634cffb873b347d0373bde",
       "version_major": 2,
       "version_minor": 0
      },
      "text/plain": [
       "  0%|          | 0/3384 [00:00<?, ?it/s]"
      ]
     },
     "metadata": {},
     "output_type": "display_data"
    },
    {
     "name": "stdout",
     "output_type": "stream",
     "text": [
      "Epoch:[30/30]\n",
      "Train Loss:8.024 \t Train MAE:1.169 \t Train RMSE:2.618 \t Train Time:96.150 \t \n",
      "Val Loss:7.704 \t Val MAE:1.009 \t Val RMSE:2.776 \t Val Time:19.592 \t \n",
      "=====================================\n"
     ]
    }
   ],
   "source": [
    "save_dir = \"./nn_model_dir/\"\n",
    "if not os.path.exists(save_dir):\n",
    "    os.mkdir(save_dir)\n",
    "\n",
    "\n",
    "train_loss, val_loss = train(model, train_dl, val_dl, MSELoss(), optim, 30, device, save_dir,\n",
    "                             save_iter=1)"
   ]
  },
  {
   "cell_type": "code",
   "execution_count": 15,
   "id": "13d29739",
   "metadata": {},
   "outputs": [],
   "source": [
    "import matplotlib.pyplot as plt"
   ]
  },
  {
   "cell_type": "code",
   "execution_count": 16,
   "id": "ed148f38",
   "metadata": {},
   "outputs": [
    {
     "data": {
      "text/plain": [
       "<matplotlib.legend.Legend at 0x7fce1db06950>"
      ]
     },
     "execution_count": 16,
     "metadata": {},
     "output_type": "execute_result"
    },
    {
     "data": {
      "image/png": "[encoded data removed]",
      "text/plain": [
       "<Figure size 640x480 with 1 Axes>"
      ]
     },
     "metadata": {},
     "output_type": "display_data"
    }
   ],
   "source": [
    "plt.plot(train_loss, label='Train Loss')\n",
    "plt.plot(val_loss, label='Val Loss')\n",
    "plt.legend()"
   ]
  },
  {
   "cell_type": "markdown",
   "id": "aa295145",
   "metadata": {},
   "source": [
    "Let's train this for 30 more epochs"
   ]
  },
  {
   "cell_type": "code",
   "execution_count": 24,
   "id": "2bbdcad5",
   "metadata": {},
   "outputs": [
    {
     "data": {
      "application/vnd.jupyter.widget-view+json": {
       "model_id": "31fd8371ccad4791a5c546f698a1929a",
       "version_major": 2,
       "version_minor": 0
      },
      "text/plain": [
       "  0%|          | 0/3384 [00:00<?, ?it/s]"
      ]
     },
     "metadata": {},
     "output_type": "display_data"
    },
    {
     "name": "stdout",
     "output_type": "stream",
     "text": [
      "Epoch:[31/60]\n",
      "Train Loss:8.692 \t Train MAE:1.263 \t Train RMSE:3.005 \t Train Time:95.622 \t \n",
      "Val Loss:7.711 \t Val MAE:1.020 \t Val RMSE:2.777 \t Val Time:18.902 \t \n",
      "=====================================\n"
     ]
    },
    {
     "data": {
      "application/vnd.jupyter.widget-view+json": {
       "model_id": "02b56c11748c43e9975c0e5e5e022e90",
       "version_major": 2,
       "version_minor": 0
      },
      "text/plain": [
       "  0%|          | 0/3384 [00:00<?, ?it/s]"
      ]
     },
     "metadata": {},
     "output_type": "display_data"
    },
    {
     "name": "stdout",
     "output_type": "stream",
     "text": [
      "Epoch:[32/60]\n",
      "Train Loss:8.155 \t Train MAE:1.135 \t Train RMSE:2.639 \t Train Time:95.474 \t \n",
      "Val Loss:7.935 \t Val MAE:1.021 \t Val RMSE:2.817 \t Val Time:19.510 \t \n",
      "=====================================\n"
     ]
    },
    {
     "data": {
      "application/vnd.jupyter.widget-view+json": {
       "model_id": "4f3ef4c47e1147d989935ea8b92e7c1a",
       "version_major": 2,
       "version_minor": 0
      },
      "text/plain": [
       "  0%|          | 0/3384 [00:00<?, ?it/s]"
      ]
     },
     "metadata": {},
     "output_type": "display_data"
    },
    {
     "name": "stdout",
     "output_type": "stream",
     "text": [
      "Epoch:[33/60]\n",
      "Train Loss:8.185 \t Train MAE:1.293 \t Train RMSE:2.747 \t Train Time:95.096 \t \n",
      "Val Loss:8.904 \t Val MAE:1.295 \t Val RMSE:2.984 \t Val Time:19.507 \t \n",
      "=====================================\n"
     ]
    },
    {
     "data": {
      "application/vnd.jupyter.widget-view+json": {
       "model_id": "56260f1fd4334f588a1e2c27cb702d8e",
       "version_major": 2,
       "version_minor": 0
      },
      "text/plain": [
       "  0%|          | 0/3384 [00:00<?, ?it/s]"
      ]
     },
     "metadata": {},
     "output_type": "display_data"
    },
    {
     "name": "stdout",
     "output_type": "stream",
     "text": [
      "Epoch:[34/60]\n",
      "Train Loss:8.123 \t Train MAE:1.210 \t Train RMSE:2.841 \t Train Time:94.505 \t \n",
      "Val Loss:7.806 \t Val MAE:1.040 \t Val RMSE:2.794 \t Val Time:19.910 \t \n",
      "=====================================\n"
     ]
    },
    {
     "data": {
      "application/vnd.jupyter.widget-view+json": {
       "model_id": "a7826b94dd2a495dab2659ce451b4615",
       "version_major": 2,
       "version_minor": 0
      },
      "text/plain": [
       "  0%|          | 0/3384 [00:00<?, ?it/s]"
      ]
     },
     "metadata": {},
     "output_type": "display_data"
    },
    {
     "name": "stdout",
     "output_type": "stream",
     "text": [
      "Epoch:[35/60]\n",
      "Train Loss:8.731 \t Train MAE:1.154 \t Train RMSE:2.785 \t Train Time:95.056 \t \n",
      "Val Loss:8.148 \t Val MAE:1.163 \t Val RMSE:2.855 \t Val Time:19.069 \t \n",
      "=====================================\n"
     ]
    },
    {
     "data": {
      "application/vnd.jupyter.widget-view+json": {
       "model_id": "d7e8b50f7b6641eb803d6543c22bfeae",
       "version_major": 2,
       "version_minor": 0
      },
      "text/plain": [
       "  0%|          | 0/3384 [00:00<?, ?it/s]"
      ]
     },
     "metadata": {},
     "output_type": "display_data"
    },
    {
     "name": "stdout",
     "output_type": "stream",
     "text": [
      "Epoch:[36/60]\n",
      "Train Loss:8.644 \t Train MAE:1.248 \t Train RMSE:3.049 \t Train Time:94.872 \t \n",
      "Val Loss:7.638 \t Val MAE:1.003 \t Val RMSE:2.764 \t Val Time:19.964 \t \n",
      "=====================================\n"
     ]
    },
    {
     "data": {
      "application/vnd.jupyter.widget-view+json": {
       "model_id": "67d4f58bc73f4440a1eefa2d7410bf8d",
       "version_major": 2,
       "version_minor": 0
      },
      "text/plain": [
       "  0%|          | 0/3384 [00:00<?, ?it/s]"
      ]
     },
     "metadata": {},
     "output_type": "display_data"
    },
    {
     "name": "stdout",
     "output_type": "stream",
     "text": [
      "Epoch:[37/60]\n",
      "Train Loss:7.936 \t Train MAE:1.135 \t Train RMSE:2.641 \t Train Time:95.173 \t \n",
      "Val Loss:7.722 \t Val MAE:1.000 \t Val RMSE:2.779 \t Val Time:21.958 \t \n",
      "=====================================\n"
     ]
    },
    {
     "data": {
      "application/vnd.jupyter.widget-view+json": {
       "model_id": "df31b5cb93bc4af6b4cb31adc4f8847f",
       "version_major": 2,
       "version_minor": 0
      },
      "text/plain": [
       "  0%|          | 0/3384 [00:00<?, ?it/s]"
      ]
     },
     "metadata": {},
     "output_type": "display_data"
    },
    {
     "name": "stdout",
     "output_type": "stream",
     "text": [
      "Epoch:[38/60]\n",
      "Train Loss:8.204 \t Train MAE:1.157 \t Train RMSE:2.677 \t Train Time:94.290 \t \n",
      "Val Loss:9.041 \t Val MAE:1.314 \t Val RMSE:3.007 \t Val Time:19.630 \t \n",
      "=====================================\n"
     ]
    },
    {
     "data": {
      "application/vnd.jupyter.widget-view+json": {
       "model_id": "f724f797d5594e1182c243d5e9471439",
       "version_major": 2,
       "version_minor": 0
      },
      "text/plain": [
       "  0%|          | 0/3384 [00:00<?, ?it/s]"
      ]
     },
     "metadata": {},
     "output_type": "display_data"
    },
    {
     "name": "stdout",
     "output_type": "stream",
     "text": [
      "Epoch:[39/60]\n",
      "Train Loss:8.311 \t Train MAE:1.250 \t Train RMSE:3.073 \t Train Time:93.782 \t \n",
      "Val Loss:8.111 \t Val MAE:1.174 \t Val RMSE:2.848 \t Val Time:19.284 \t \n",
      "=====================================\n"
     ]
    },
    {
     "data": {
      "application/vnd.jupyter.widget-view+json": {
       "model_id": "84af485a370d47569c58b4fe3a026d9a",
       "version_major": 2,
       "version_minor": 0
      },
      "text/plain": [
       "  0%|          | 0/3384 [00:00<?, ?it/s]"
      ]
     },
     "metadata": {},
     "output_type": "display_data"
    },
    {
     "name": "stdout",
     "output_type": "stream",
     "text": [
      "Epoch:[40/60]\n",
      "Train Loss:8.033 \t Train MAE:1.199 \t Train RMSE:2.944 \t Train Time:94.324 \t \n",
      "Val Loss:8.047 \t Val MAE:1.119 \t Val RMSE:2.836 \t Val Time:19.378 \t \n",
      "=====================================\n"
     ]
    },
    {
     "data": {
      "application/vnd.jupyter.widget-view+json": {
       "model_id": "1bcdaf250d634ce891ea0d4dfe215827",
       "version_major": 2,
       "version_minor": 0
      },
      "text/plain": [
       "  0%|          | 0/3384 [00:00<?, ?it/s]"
      ]
     },
     "metadata": {},
     "output_type": "display_data"
    },
    {
     "name": "stdout",
     "output_type": "stream",
     "text": [
      "Epoch:[41/60]\n",
      "Train Loss:8.339 \t Train MAE:1.198 \t Train RMSE:2.770 \t Train Time:94.265 \t \n",
      "Val Loss:7.817 \t Val MAE:1.047 \t Val RMSE:2.796 \t Val Time:19.281 \t \n",
      "=====================================\n"
     ]
    },
    {
     "data": {
      "application/vnd.jupyter.widget-view+json": {
       "model_id": "814c2acbd2784c59af0fc1824573029c",
       "version_major": 2,
       "version_minor": 0
      },
      "text/plain": [
       "  0%|          | 0/3384 [00:00<?, ?it/s]"
      ]
     },
     "metadata": {},
     "output_type": "display_data"
    },
    {
     "name": "stdout",
     "output_type": "stream",
     "text": [
      "Epoch:[42/60]\n",
      "Train Loss:7.929 \t Train MAE:1.124 \t Train RMSE:2.500 \t Train Time:94.485 \t \n",
      "Val Loss:7.599 \t Val MAE:1.001 \t Val RMSE:2.757 \t Val Time:22.138 \t \n",
      "=====================================\n"
     ]
    },
    {
     "data": {
      "application/vnd.jupyter.widget-view+json": {
       "model_id": "d6928e709c3743ffab26dcb0a075547e",
       "version_major": 2,
       "version_minor": 0
      },
      "text/plain": [
       "  0%|          | 0/3384 [00:00<?, ?it/s]"
      ]
     },
     "metadata": {},
     "output_type": "display_data"
    },
    {
     "name": "stdout",
     "output_type": "stream",
     "text": [
      "Epoch:[43/60]\n",
      "Train Loss:8.095 \t Train MAE:1.143 \t Train RMSE:2.659 \t Train Time:95.203 \t \n",
      "Val Loss:7.538 \t Val MAE:0.959 \t Val RMSE:2.746 \t Val Time:19.610 \t \n",
      "=====================================\n"
     ]
    },
    {
     "data": {
      "application/vnd.jupyter.widget-view+json": {
       "model_id": "606d570f277549be952d48fd0edb785f",
       "version_major": 2,
       "version_minor": 0
      },
      "text/plain": [
       "  0%|          | 0/3384 [00:00<?, ?it/s]"
      ]
     },
     "metadata": {},
     "output_type": "display_data"
    },
    {
     "name": "stdout",
     "output_type": "stream",
     "text": [
      "Epoch:[44/60]\n",
      "Train Loss:8.530 \t Train MAE:1.210 \t Train RMSE:2.823 \t Train Time:94.883 \t \n",
      "Val Loss:7.496 \t Val MAE:0.976 \t Val RMSE:2.738 \t Val Time:19.582 \t \n",
      "=====================================\n"
     ]
    },
    {
     "data": {
      "application/vnd.jupyter.widget-view+json": {
       "model_id": "ff99ea8014be493386fc3a688fcead11",
       "version_major": 2,
       "version_minor": 0
      },
      "text/plain": [
       "  0%|          | 0/3384 [00:00<?, ?it/s]"
      ]
     },
     "metadata": {},
     "output_type": "display_data"
    },
    {
     "name": "stdout",
     "output_type": "stream",
     "text": [
      "Epoch:[45/60]\n",
      "Train Loss:8.230 \t Train MAE:1.191 \t Train RMSE:3.089 \t Train Time:95.757 \t \n",
      "Val Loss:7.998 \t Val MAE:1.069 \t Val RMSE:2.828 \t Val Time:19.202 \t \n",
      "=====================================\n"
     ]
    },
    {
     "data": {
      "application/vnd.jupyter.widget-view+json": {
       "model_id": "0c21179825c04d3095df61926776dcf8",
       "version_major": 2,
       "version_minor": 0
      },
      "text/plain": [
       "  0%|          | 0/3384 [00:00<?, ?it/s]"
      ]
     },
     "metadata": {},
     "output_type": "display_data"
    },
    {
     "name": "stdout",
     "output_type": "stream",
     "text": [
      "Epoch:[46/60]\n",
      "Train Loss:8.029 \t Train MAE:1.098 \t Train RMSE:2.653 \t Train Time:94.308 \t \n",
      "Val Loss:7.657 \t Val MAE:1.026 \t Val RMSE:2.767 \t Val Time:19.443 \t \n",
      "=====================================\n"
     ]
    },
    {
     "data": {
      "application/vnd.jupyter.widget-view+json": {
       "model_id": "66ab71a5c9734558ad9d292267da6c92",
       "version_major": 2,
       "version_minor": 0
      },
      "text/plain": [
       "  0%|          | 0/3384 [00:00<?, ?it/s]"
      ]
     },
     "metadata": {},
     "output_type": "display_data"
    },
    {
     "name": "stdout",
     "output_type": "stream",
     "text": [
      "Epoch:[47/60]\n",
      "Train Loss:8.386 \t Train MAE:1.200 \t Train RMSE:2.939 \t Train Time:93.009 \t \n",
      "Val Loss:7.929 \t Val MAE:1.125 \t Val RMSE:2.816 \t Val Time:19.576 \t \n",
      "=====================================\n"
     ]
    },
    {
     "data": {
      "application/vnd.jupyter.widget-view+json": {
       "model_id": "ef3e73ba3ecc408fa4cf64f497bc9c15",
       "version_major": 2,
       "version_minor": 0
      },
      "text/plain": [
       "  0%|          | 0/3384 [00:00<?, ?it/s]"
      ]
     },
     "metadata": {},
     "output_type": "display_data"
    },
    {
     "name": "stdout",
     "output_type": "stream",
     "text": [
      "Epoch:[48/60]\n",
      "Train Loss:7.956 \t Train MAE:1.122 \t Train RMSE:2.482 \t Train Time:93.725 \t \n",
      "Val Loss:8.174 \t Val MAE:1.204 \t Val RMSE:2.858 \t Val Time:19.208 \t \n",
      "=====================================\n"
     ]
    },
    {
     "data": {
      "application/vnd.jupyter.widget-view+json": {
       "model_id": "27d298ba2858423fa74b408d9d5b6cc5",
       "version_major": 2,
       "version_minor": 0
      },
      "text/plain": [
       "  0%|          | 0/3384 [00:00<?, ?it/s]"
      ]
     },
     "metadata": {},
     "output_type": "display_data"
    },
    {
     "name": "stdout",
     "output_type": "stream",
     "text": [
      "Epoch:[49/60]\n",
      "Train Loss:7.801 \t Train MAE:1.182 \t Train RMSE:2.675 \t Train Time:94.328 \t \n",
      "Val Loss:7.754 \t Val MAE:1.047 \t Val RMSE:2.785 \t Val Time:19.070 \t \n",
      "=====================================\n"
     ]
    },
    {
     "data": {
      "application/vnd.jupyter.widget-view+json": {
       "model_id": "c64e9c16d7584d02a514ae5e18e25ce3",
       "version_major": 2,
       "version_minor": 0
      },
      "text/plain": [
       "  0%|          | 0/3384 [00:00<?, ?it/s]"
      ]
     },
     "metadata": {},
     "output_type": "display_data"
    },
    {
     "name": "stdout",
     "output_type": "stream",
     "text": [
      "Epoch:[50/60]\n",
      "Train Loss:7.764 \t Train MAE:1.150 \t Train RMSE:2.602 \t Train Time:92.883 \t \n",
      "Val Loss:7.586 \t Val MAE:1.002 \t Val RMSE:2.754 \t Val Time:18.955 \t \n",
      "=====================================\n"
     ]
    },
    {
     "data": {
      "application/vnd.jupyter.widget-view+json": {
       "model_id": "b272330ad4a0479fa7f49e7d6bf775eb",
       "version_major": 2,
       "version_minor": 0
      },
      "text/plain": [
       "  0%|          | 0/3384 [00:00<?, ?it/s]"
      ]
     },
     "metadata": {},
     "output_type": "display_data"
    },
    {
     "name": "stdout",
     "output_type": "stream",
     "text": [
      "Epoch:[51/60]\n",
      "Train Loss:7.851 \t Train MAE:1.188 \t Train RMSE:2.863 \t Train Time:93.567 \t \n",
      "Val Loss:9.150 \t Val MAE:1.388 \t Val RMSE:3.025 \t Val Time:19.012 \t \n",
      "=====================================\n"
     ]
    },
    {
     "data": {
      "application/vnd.jupyter.widget-view+json": {
       "model_id": "eb989821253a4000b8bd315b46b0e81d",
       "version_major": 2,
       "version_minor": 0
      },
      "text/plain": [
       "  0%|          | 0/3384 [00:00<?, ?it/s]"
      ]
     },
     "metadata": {},
     "output_type": "display_data"
    },
    {
     "name": "stdout",
     "output_type": "stream",
     "text": [
      "Epoch:[52/60]\n",
      "Train Loss:8.620 \t Train MAE:1.262 \t Train RMSE:3.273 \t Train Time:93.634 \t \n",
      "Val Loss:8.283 \t Val MAE:1.187 \t Val RMSE:2.878 \t Val Time:19.295 \t \n",
      "=====================================\n"
     ]
    },
    {
     "data": {
      "application/vnd.jupyter.widget-view+json": {
       "model_id": "faf63c85b4fd47069301364f02ca1f98",
       "version_major": 2,
       "version_minor": 0
      },
      "text/plain": [
       "  0%|          | 0/3384 [00:00<?, ?it/s]"
      ]
     },
     "metadata": {},
     "output_type": "display_data"
    },
    {
     "name": "stdout",
     "output_type": "stream",
     "text": [
      "Epoch:[53/60]\n",
      "Train Loss:8.633 \t Train MAE:1.192 \t Train RMSE:2.992 \t Train Time:95.328 \t \n",
      "Val Loss:8.371 \t Val MAE:1.243 \t Val RMSE:2.893 \t Val Time:19.105 \t \n",
      "=====================================\n"
     ]
    },
    {
     "data": {
      "application/vnd.jupyter.widget-view+json": {
       "model_id": "a1373f7f39484cb9a101a814a3328e80",
       "version_major": 2,
       "version_minor": 0
      },
      "text/plain": [
       "  0%|          | 0/3384 [00:00<?, ?it/s]"
      ]
     },
     "metadata": {},
     "output_type": "display_data"
    },
    {
     "name": "stdout",
     "output_type": "stream",
     "text": [
      "Epoch:[54/60]\n",
      "Train Loss:7.709 \t Train MAE:1.146 \t Train RMSE:2.728 \t Train Time:93.836 \t \n",
      "Val Loss:7.351 \t Val MAE:0.940 \t Val RMSE:2.711 \t Val Time:19.240 \t \n",
      "=====================================\n"
     ]
    },
    {
     "data": {
      "application/vnd.jupyter.widget-view+json": {
       "model_id": "9e5dccb9e7a74e5aa401d41fdb04fd97",
       "version_major": 2,
       "version_minor": 0
      },
      "text/plain": [
       "  0%|          | 0/3384 [00:00<?, ?it/s]"
      ]
     },
     "metadata": {},
     "output_type": "display_data"
    },
    {
     "name": "stdout",
     "output_type": "stream",
     "text": [
      "Epoch:[55/60]\n",
      "Train Loss:8.197 \t Train MAE:1.232 \t Train RMSE:3.146 \t Train Time:93.221 \t \n",
      "Val Loss:8.120 \t Val MAE:1.133 \t Val RMSE:2.849 \t Val Time:19.088 \t \n",
      "=====================================\n"
     ]
    },
    {
     "data": {
      "application/vnd.jupyter.widget-view+json": {
       "model_id": "9cebcc18de70403bae9afd89a925feb1",
       "version_major": 2,
       "version_minor": 0
      },
      "text/plain": [
       "  0%|          | 0/3384 [00:00<?, ?it/s]"
      ]
     },
     "metadata": {},
     "output_type": "display_data"
    },
    {
     "name": "stdout",
     "output_type": "stream",
     "text": [
      "Epoch:[56/60]\n",
      "Train Loss:8.056 \t Train MAE:1.065 \t Train RMSE:2.520 \t Train Time:94.841 \t \n",
      "Val Loss:8.039 \t Val MAE:1.134 \t Val RMSE:2.835 \t Val Time:18.312 \t \n",
      "=====================================\n"
     ]
    },
    {
     "data": {
      "application/vnd.jupyter.widget-view+json": {
       "model_id": "630eaccb50fe48f5be81590a34a2d5ae",
       "version_major": 2,
       "version_minor": 0
      },
      "text/plain": [
       "  0%|          | 0/3384 [00:00<?, ?it/s]"
      ]
     },
     "metadata": {},
     "output_type": "display_data"
    },
    {
     "name": "stdout",
     "output_type": "stream",
     "text": [
      "Epoch:[57/60]\n",
      "Train Loss:8.521 \t Train MAE:1.185 \t Train RMSE:2.836 \t Train Time:92.227 \t \n",
      "Val Loss:7.537 \t Val MAE:1.013 \t Val RMSE:2.745 \t Val Time:18.364 \t \n",
      "=====================================\n"
     ]
    },
    {
     "data": {
      "application/vnd.jupyter.widget-view+json": {
       "model_id": "e01aa2fa31c445e8b02fce9e86d77596",
       "version_major": 2,
       "version_minor": 0
      },
      "text/plain": [
       "  0%|          | 0/3384 [00:00<?, ?it/s]"
      ]
     },
     "metadata": {},
     "output_type": "display_data"
    },
    {
     "name": "stdout",
     "output_type": "stream",
     "text": [
      "Epoch:[58/60]\n",
      "Train Loss:7.859 \t Train MAE:1.118 \t Train RMSE:2.680 \t Train Time:92.167 \t \n",
      "Val Loss:8.160 \t Val MAE:1.154 \t Val RMSE:2.857 \t Val Time:19.315 \t \n",
      "=====================================\n"
     ]
    },
    {
     "data": {
      "application/vnd.jupyter.widget-view+json": {
       "model_id": "215b6a0653934a5d91c0ddb025860c1a",
       "version_major": 2,
       "version_minor": 0
      },
      "text/plain": [
       "  0%|          | 0/3384 [00:00<?, ?it/s]"
      ]
     },
     "metadata": {},
     "output_type": "display_data"
    },
    {
     "name": "stdout",
     "output_type": "stream",
     "text": [
      "Epoch:[59/60]\n",
      "Train Loss:8.153 \t Train MAE:1.141 \t Train RMSE:2.740 \t Train Time:93.545 \t \n",
      "Val Loss:7.571 \t Val MAE:1.028 \t Val RMSE:2.752 \t Val Time:18.186 \t \n",
      "=====================================\n"
     ]
    },
    {
     "data": {
      "application/vnd.jupyter.widget-view+json": {
       "model_id": "042a9a6cb2884f668231c56302aac45d",
       "version_major": 2,
       "version_minor": 0
      },
      "text/plain": [
       "  0%|          | 0/3384 [00:00<?, ?it/s]"
      ]
     },
     "metadata": {},
     "output_type": "display_data"
    },
    {
     "name": "stdout",
     "output_type": "stream",
     "text": [
      "Epoch:[60/60]\n",
      "Train Loss:8.143 \t Train MAE:1.151 \t Train RMSE:2.788 \t Train Time:94.269 \t \n",
      "Val Loss:8.672 \t Val MAE:1.280 \t Val RMSE:2.945 \t Val Time:18.262 \t \n",
      "=====================================\n"
     ]
    }
   ],
   "source": [
    "resume_epoch = 31\n",
    "train_loss, val_loss = train(model, train_dl, val_dl, MSELoss(), optim, 60, device, save_dir,\n",
    "                             save_iter=1, resume_epoch=resume_epoch)"
   ]
  },
  {
   "cell_type": "markdown",
   "id": "21d095b1",
   "metadata": {},
   "source": [
    "We will use the model at epoch 44 since it ahs the minimum loss value of all"
   ]
  },
  {
   "cell_type": "code",
   "execution_count": 33,
   "id": "c7c6db38",
   "metadata": {},
   "outputs": [
    {
     "data": {
      "text/plain": [
       "[<matplotlib.lines.Line2D at 0x7fcdb240f210>]"
      ]
     },
     "execution_count": 33,
     "metadata": {},
     "output_type": "execute_result"
    },
    {
     "data": {
      "image/png": "[encoded data removed]",
      "text/plain": [
       "<Figure size 640x480 with 1 Axes>"
      ]
     },
     "metadata": {},
     "output_type": "display_data"
    }
   ],
   "source": [
    "plt.plot(np.arange(31, 61), val_loss)"
   ]
  },
  {
   "cell_type": "code",
   "execution_count": 11,
   "id": "fa0ec5be",
   "metadata": {},
   "outputs": [],
   "source": [
    "from xgboost import XGBRegressor"
   ]
  },
  {
   "cell_type": "code",
   "execution_count": 13,
   "id": "53cd8911",
   "metadata": {},
   "outputs": [
    {
     "data": {
      "text/plain": [
       "XGBRegressor(base_score=0.5, booster='gbtree', callbacks=None,\n",
       "             colsample_bylevel=1, colsample_bynode=1, colsample_bytree=1.0,\n",
       "             early_stopping_rounds=None, enable_categorical=False,\n",
       "             eval_metric=None, gamma=2, gpu_id=-1, grow_policy='depthwise',\n",
       "             importance_type=None, interaction_constraints='',\n",
       "             learning_rate=0.300000012, max_bin=256, max_cat_to_onehot=4,\n",
       "             max_delta_step=0, max_depth=11, max_leaves=0, min_child_weight=10,\n",
       "             missing=nan, monotone_constraints='()', n_estimators=100, n_jobs=0,\n",
       "             num_parallel_tree=1, predictor='auto', random_state=0, reg_alpha=0,\n",
       "             reg_lambda=1, ...)"
      ]
     },
     "execution_count": 13,
     "metadata": {},
     "output_type": "execute_result"
    }
   ],
   "source": [
    "joblib.load('./taxi_analysis/model/xgb_clf.joblib')"
   ]
  },
  {
   "cell_type": "code",
   "execution_count": 26,
   "id": "79421e90",
   "metadata": {},
   "outputs": [
    {
     "data": {
      "text/plain": [
       "<All keys matched successfully>"
      ]
     },
     "execution_count": 26,
     "metadata": {},
     "output_type": "execute_result"
    }
   ],
   "source": [
    "model.load_state_dict(torch.load(os.path.join(save_dir, \"44\", \"checkpoint_44.pth\"))['model'])"
   ]
  },
  {
   "cell_type": "code",
   "execution_count": 29,
   "id": "7506f2ae",
   "metadata": {},
   "outputs": [
    {
     "name": "stdout",
     "output_type": "stream",
     "text": [
      "{'Val Loss': 7.417658396011301, 'Val MAE': 0.974330337449308, 'Val RMSE': 2.7233264584094137, 'Val Time': 32.17125868797302}\n"
     ]
    }
   ],
   "source": [
    "test_results = validate(model, test_dl, MSELoss(), device)\n",
    "print(test_results)"
   ]
  },
  {
   "cell_type": "markdown",
   "id": "58c84a73",
   "metadata": {},
   "source": [
    "Test MAE and RMSE is comparable to that of our deep random forest model. Let's try to use the embedding vectors from this model to create features"
   ]
  },
  {
   "cell_type": "code",
   "execution_count": 16,
   "id": "3461ccdc",
   "metadata": {},
   "outputs": [],
   "source": [
    "import xgboost"
   ]
  },
  {
   "cell_type": "code",
   "execution_count": 17,
   "id": "3c43d874",
   "metadata": {},
   "outputs": [
    {
     "data": {
      "text/plain": [
       "'1.6.2'"
      ]
     },
     "execution_count": 17,
     "metadata": {},
     "output_type": "execute_result"
    }
   ],
   "source": [
    "xgboost.__version__"
   ]
  },
  {
   "cell_type": "code",
   "execution_count": 40,
   "id": "4e7d2721",
   "metadata": {},
   "outputs": [],
   "source": [
    "def extract_embedding(df, num_columns, cat_columns, model):\n",
    "    model.eval()\n",
    "    with torch.no_grad():\n",
    "        embedding_layers = model.module.embedding_layers\n",
    "        cat_features = torch.LongTensor(df[cat_columns].values)\n",
    "        cat_features = torch.cat([embedding_layer(cat_feature.squeeze(1)) for \n",
    "                                  embedding_layer, cat_feature in\n",
    "                              zip(embedding_layers, cat_features.split(1, dim=1))], dim=1).numpy()\n",
    "        return np.concatenate([df[num_columns], cat_features], axis=1), df[\"Fare\"].values\n"
   ]
  },
  {
   "cell_type": "code",
   "execution_count": 43,
   "id": "30b74e54",
   "metadata": {},
   "outputs": [],
   "source": [
    "model = model.to('cpu')\n",
    "X_train, y_train = extract_embedding(train_df, numerical_features, cat_features, model)\n",
    "X_val, y_val = extract_embedding(val_df, numerical_features, cat_features, model)\n",
    "X_test, y_test = extract_embedding(test_df, numerical_features, cat_features, model)"
   ]
  },
  {
   "cell_type": "code",
   "execution_count": null,
   "id": "c417d559",
   "metadata": {},
   "outputs": [],
   "source": [
    "clf = RandomForestRegressor().fit(X_train, y_train)"
   ]
  },
  {
   "cell_type": "code",
   "execution_count": 56,
   "id": "75704228",
   "metadata": {},
   "outputs": [
    {
     "name": "stdout",
     "output_type": "stream",
     "text": [
      "0.8387443488280771 2.6243842429764337\n"
     ]
    }
   ],
   "source": [
    "val_pred = clf.predict(X_val)\n",
    "\n",
    "print(mean_absolute_error(y_val, val_pred),\n",
    "      mean_squared_error(y_val, val_pred, squared=False))"
   ]
  },
  {
   "cell_type": "code",
   "execution_count": 71,
   "id": "9c980cfe",
   "metadata": {},
   "outputs": [
    {
     "name": "stdout",
     "output_type": "stream",
     "text": [
      "2.049138643178749 6.0016962632684425\n"
     ]
    }
   ],
   "source": [
    "svr = LinearSVR().fit(X_train, y_train)\n",
    "val_pred = svr.predict(X_val)\n",
    "print(mean_absolute_error(y_val, val_pred),\n",
    "      mean_squared_error(y_val, val_pred, squared=False))"
   ]
  },
  {
   "cell_type": "code",
   "execution_count": 72,
   "id": "acd006df",
   "metadata": {},
   "outputs": [
    {
     "name": "stdout",
     "output_type": "stream",
     "text": [
      "1.4382725033073187 3.5507234029954255\n"
     ]
    }
   ],
   "source": [
    "gbr = GradientBoostingRegressor().fit(X_train, y_train)\n",
    "val_pred = gbr.predict(X_val)\n",
    "print(mean_absolute_error(y_val, val_pred),\n",
    "      mean_squared_error(y_val, val_pred, squared=False))"
   ]
  },
  {
   "cell_type": "code",
   "execution_count": 74,
   "id": "6efed17e",
   "metadata": {},
   "outputs": [
    {
     "name": "stdout",
     "output_type": "stream",
     "text": [
      "1.3161658264304652 3.035110745600023\n"
     ]
    }
   ],
   "source": [
    "knn = KNeighborsRegressor(n_neighbors=10).fit(X_train, y_train)\n",
    "val_pred = knn.predict(X_val)\n",
    "print(mean_absolute_error(y_val, val_pred),\n",
    "      mean_squared_error(y_val, val_pred, squared=False))"
   ]
  },
  {
   "cell_type": "code",
   "execution_count": 82,
   "id": "c13bf10b",
   "metadata": {},
   "outputs": [
    {
     "name": "stdout",
     "output_type": "stream",
     "text": [
      "0.8391453624688305 2.7558097973449134\n"
     ]
    }
   ],
   "source": [
    "lite_rf = RandomForestRegressor(min_samples_split=100, min_samples_leaf=10)\\\n",
    "    .fit(X_train, y_train)\n",
    "val_pred = lite_rf.predict(X_val)\n",
    "print(mean_absolute_error(y_val, val_pred),\n",
    "      mean_squared_error(y_val, val_pred, squared=False))"
   ]
  },
  {
   "cell_type": "code",
   "execution_count": 86,
   "id": "91039c2a",
   "metadata": {},
   "outputs": [
    {
     "data": {
      "text/plain": [
       "'272.9 MB'"
      ]
     },
     "execution_count": 86,
     "metadata": {},
     "output_type": "execute_result"
    }
   ],
   "source": [
    "joblib.dump(lite_rf, \"./rf_clf.joblib\")\n",
    "\n",
    "# calculate file size in KB, MB, GB\n",
    "def convert_bytes(size):\n",
    "    \"\"\" Convert bytes to KB, or MB or GB\"\"\"\n",
    "    for x in ['bytes', 'KB', 'MB', 'GB', 'TB']:\n",
    "        if size < 1024.0:\n",
    "            return \"%3.1f %s\" % (size, x)\n",
    "        size /= 1024.0\n",
    "        \n",
    "convert_bytes(os.path.getsize(\"./rf_clf.joblib\"))"
   ]
  },
  {
   "cell_type": "code",
   "execution_count": 90,
   "id": "cf8766e2",
   "metadata": {},
   "outputs": [],
   "source": [
    "lite_rf = RandomForestRegressor(min_samples_split=200, min_samples_leaf=10)\\\n",
    "    .fit(X_train, y_train)"
   ]
  },
  {
   "cell_type": "code",
   "execution_count": 91,
   "id": "4ade440d",
   "metadata": {},
   "outputs": [
    {
     "name": "stdout",
     "output_type": "stream",
     "text": [
      "0.8680985165331295 2.8467401199659013\n"
     ]
    }
   ],
   "source": [
    "val_pred = lite_rf.predict(X_val)\n",
    "print(mean_absolute_error(y_val, val_pred),\n",
    "      mean_squared_error(y_val, val_pred, squared=False))"
   ]
  },
  {
   "cell_type": "code",
   "execution_count": 92,
   "id": "a41bde7f",
   "metadata": {},
   "outputs": [
    {
     "data": {
      "text/plain": [
       "'144.1 MB'"
      ]
     },
     "execution_count": 92,
     "metadata": {},
     "output_type": "execute_result"
    }
   ],
   "source": [
    "joblib.dump(lite_rf, \"./rf_clf.joblib\")\n",
    "\n",
    "# calculate file size in KB, MB, GB\n",
    "def convert_bytes(size):\n",
    "    \"\"\" Convert bytes to KB, or MB or GB\"\"\"\n",
    "    for x in ['bytes', 'KB', 'MB', 'GB', 'TB']:\n",
    "        if size < 1024.0:\n",
    "            return \"%3.1f %s\" % (size, x)\n",
    "        size /= 1024.0\n",
    "        \n",
    "convert_bytes(os.path.getsize(\"./rf_clf.joblib\"))"
   ]
  },
  {
   "cell_type": "markdown",
   "id": "30525e93",
   "metadata": {},
   "source": [
    "A random forest model with minimum samples split 200 (previously 1) and minimum samples leaf 10 (previously 1) will constraint the tree depth but this still amounts to 144.1 MB. Let's try XGBRegressor"
   ]
  },
  {
   "cell_type": "code",
   "execution_count": 99,
   "id": "6896389c",
   "metadata": {},
   "outputs": [
    {
     "name": "stdout",
     "output_type": "stream",
     "text": [
      "0.8256312917417424 2.546297704793532\n"
     ]
    }
   ],
   "source": [
    "xgb = XGBRegressor(max_depth=10).fit(X_train, y_train)\n",
    "val_pred = xgb.predict(X_val)\n",
    "print(mean_absolute_error(y_val, val_pred),\n",
    "      mean_squared_error(y_val, val_pred, squared=False))"
   ]
  },
  {
   "cell_type": "code",
   "execution_count": 100,
   "id": "8eae04c0",
   "metadata": {},
   "outputs": [
    {
     "data": {
      "text/plain": [
       "'3.9 MB'"
      ]
     },
     "execution_count": 100,
     "metadata": {},
     "output_type": "execute_result"
    }
   ],
   "source": [
    "joblib.dump(xgb, \"./xgb_clf.joblib\")\n",
    "\n",
    "# calculate file size in KB, MB, GB\n",
    "def convert_bytes(size):\n",
    "    \"\"\" Convert bytes to KB, or MB or GB\"\"\"\n",
    "    for x in ['bytes', 'KB', 'MB', 'GB', 'TB']:\n",
    "        if size < 1024.0:\n",
    "            return \"%3.1f %s\" % (size, x)\n",
    "        size /= 1024.0\n",
    "        \n",
    "convert_bytes(os.path.getsize(\"./xgb_clf.joblib\"))"
   ]
  },
  {
   "cell_type": "markdown",
   "id": "64afa883",
   "metadata": {},
   "source": [
    "Much better file size, so let's hyperparameter tune this and see if it can achieve better performance"
   ]
  },
  {
   "cell_type": "code",
   "execution_count": null,
   "id": "0c9b4c21",
   "metadata": {
    "scrolled": true
   },
   "outputs": [
    {
     "name": "stdout",
     "output_type": "stream",
     "text": [
      "Fitting 1 folds for each of 50 candidates, totalling 50 fits\n"
     ]
    }
   ],
   "source": [
    "# Import Libraries\n",
    "from sklearn.model_selection import train_test_split, RandomizedSearchCV\n",
    "from sklearn.model_selection import PredefinedSplit\n",
    "\n",
    "params = {\n",
    "        'min_child_weight': [1, 5, 10],\n",
    "        'gamma': [0.5, 1, 1.5, 2, 5],\n",
    "        'subsample': [0.6, 0.8, 1.0],\n",
    "        'colsample_bytree': [0.6, 0.8, 1.0],\n",
    "        'max_depth': np.arange(8, 12, 1)\n",
    "        }\n",
    "\n",
    "# Create a list where train data indices are -1 and validation data indices are 0\n",
    "split_index = [-1 if i < len(X_train) else 0 for i in range(len(X_train) + len(X_val))]\n",
    "\n",
    "# Use the list to create PredefinedSplit\n",
    "pds = PredefinedSplit(test_fold = split_index)\n",
    "\n",
    "# Use PredefinedSplit in GridSearchCV\n",
    "clf = RandomizedSearchCV(XGBRegressor(),\n",
    "                         scoring='neg_mean_squared_error',\n",
    "                         n_jobs=-1, verbose=3,\n",
    "                         cv=pds,\n",
    "                         n_iter=50,\n",
    "                         param_distributions=params)\n",
    "\n",
    "# Fit with all data\n",
    "clf.fit(np.concatenate([X_train, X_val]), np.concatenate([y_train, y_val]))"
   ]
  },
  {
   "cell_type": "code",
   "execution_count": 180,
   "id": "ff9631d1",
   "metadata": {},
   "outputs": [
    {
     "name": "stdout",
     "output_type": "stream",
     "text": [
      "{'subsample': 1.0, 'min_child_weight': 10, 'max_depth': 11, 'gamma': 2, 'colsample_bytree': 1.0} -6.451806465685389\n"
     ]
    }
   ],
   "source": [
    "print(clf.best_params_, clf.best_score_)"
   ]
  },
  {
   "cell_type": "code",
   "execution_count": 141,
   "id": "d4d112eb",
   "metadata": {},
   "outputs": [],
   "source": [
    "best_hyperparams['max_depth'] = int(best_hyperparams['max_depth'])\n"
   ]
  },
  {
   "cell_type": "code",
   "execution_count": 181,
   "id": "f3d51e0f",
   "metadata": {},
   "outputs": [
    {
     "name": "stdout",
     "output_type": "stream",
     "text": [
      "0.7333658440898537 2.1550459328348808\n"
     ]
    }
   ],
   "source": [
    "val_pred = clf.best_estimator_.predict(X_val)\n",
    "print(mean_absolute_error(y_val, val_pred),\n",
    "      mean_squared_error(y_val, val_pred, squared=False))"
   ]
  },
  {
   "cell_type": "code",
   "execution_count": 183,
   "id": "88624ae0",
   "metadata": {},
   "outputs": [
    {
     "name": "stdout",
     "output_type": "stream",
     "text": [
      "0.8125832631384617 2.5187748491277397\n"
     ]
    }
   ],
   "source": [
    "test_pred = clf.best_estimator_.predict(X_test)\n",
    "print(mean_absolute_error(y_test, test_pred),\n",
    "      mean_squared_error(y_test, test_pred, squared=False))"
   ]
  },
  {
   "cell_type": "code",
   "execution_count": 186,
   "id": "93221f17",
   "metadata": {},
   "outputs": [
    {
     "data": {
      "text/plain": [
       "(1732249, 577417, 989857)"
      ]
     },
     "execution_count": 186,
     "metadata": {},
     "output_type": "execute_result"
    }
   ],
   "source": [
    "len(train_df), len(val_df), len(test_df)"
   ]
  },
  {
   "cell_type": "code",
   "execution_count": 191,
   "id": "7e1a79aa",
   "metadata": {},
   "outputs": [
    {
     "data": {
      "text/plain": [
       "'3.6 MB'"
      ]
     },
     "execution_count": 191,
     "metadata": {},
     "output_type": "execute_result"
    }
   ],
   "source": [
    "joblib.dump(clf.best_estimator_, \"./xgb_clf.joblib\")\n",
    "\n",
    "# calculate file size in KB, MB, GB\n",
    "def convert_bytes(size):\n",
    "    \"\"\" Convert bytes to KB, or MB or GB\"\"\"\n",
    "    for x in ['bytes', 'KB', 'MB', 'GB', 'TB']:\n",
    "        if size < 1024.0:\n",
    "            return \"%3.1f %s\" % (size, x)\n",
    "        size /= 1024.0\n",
    "        \n",
    "convert_bytes(os.path.getsize(\"./xgb_clf.joblib\"))"
   ]
  },
  {
   "cell_type": "code",
   "execution_count": 203,
   "id": "23eda826",
   "metadata": {},
   "outputs": [],
   "source": [
    "def calculate_metric(y_true, y_pred, header='Validation'):\n",
    "    print(\"{} results as follow:\".format(header))\n",
    "    print(\"RMSE of {}\".format(mean_squared_error(y_true, y_pred, squared=False)))\n",
    "    print(\"MAE of {}\".format(mean_absolute_error(y_true, y_pred)))\n",
    "    print(\"################\")"
   ]
  },
  {
   "cell_type": "code",
   "execution_count": 205,
   "id": "b04d0a52",
   "metadata": {},
   "outputs": [
    {
     "name": "stdout",
     "output_type": "stream",
     "text": [
      "Results for the year 2017, XGBoost Regressor results as follow:\n",
      "RMSE of 1.6936738306103143\n",
      "MAE of 0.5234912611808599\n",
      "################\n",
      "Results for the year 2018, XGBoost Regressor results as follow:\n",
      "RMSE of 1.5568595609347324\n",
      "MAE of 0.5015219053608052\n",
      "################\n",
      "Results for the year 2019, XGBoost Regressor results as follow:\n",
      "RMSE of 1.6907031295973394\n",
      "MAE of 0.5646770841432472\n",
      "################\n",
      "Results for the year 2020, XGBoost Regressor results as follow:\n",
      "RMSE of 2.0595317732593084\n",
      "MAE of 0.6294013718433913\n",
      "################\n"
     ]
    }
   ],
   "source": [
    "years = [2017, 2018, 2019, 2020]\n",
    "for year in years:\n",
    "    df = pd.read_csv(os.path.join(str(year), \"./chicago_taxi_cleaned.csv\"))\n",
    "    df.loc[~df[\"Payment Type\"].isin(['Cash', 'Unknown', 'Credit Card', 'Prcard', 'Mobile']), \"Payment Type\"] = \"Unknown\"\n",
    "    df = encode_cat_variables(df)\n",
    "    df.loc[:, numerical_features] = normalizer.transform(df[numerical_features]).astype('float32')\n",
    "    X, y = extract_embedding(df, numerical_features, cat_features, model)\n",
    "    calculate_metric(y, clf.best_estimator_.predict(X), \n",
    "                     header=\"Results for the year {}, XGBoost Regressor\".format(year))\n",
    "    "
   ]
  }
 ],
 "metadata": {
  "kernelspec": {
   "display_name": "Python [conda env:taxi_analysis] *",
   "language": "python",
   "name": "conda-env-taxi_analysis-py"
  },
  "language_info": {
   "codemirror_mode": {
    "name": "ipython",
    "version": 3
   },
   "file_extension": ".py",
   "mimetype": "text/x-python",
   "name": "python",
   "nbconvert_exporter": "python",
   "pygments_lexer": "ipython3",
   "version": "3.7.13"
  }
 },
 "nbformat": 4,
 "nbformat_minor": 5
}
