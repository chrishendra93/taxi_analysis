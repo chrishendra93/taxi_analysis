{
 "cells": [
  {
   "cell_type": "code",
   "execution_count": 1,
   "id": "e5738d70",
   "metadata": {},
   "outputs": [],
   "source": [
    "import pandas as pd\n",
    "import numpy as np\n",
    "import os\n",
    "import matplotlib.pyplot as plt\n",
    "import statsmodels.api as sm\n",
    "import seaborn as sns\n",
    "from sklearn.ensemble import RandomForestClassifier, GradientBoostingClassifier\n",
    "from sklearn.model_selection import train_test_split\n"
   ]
  },
  {
   "cell_type": "code",
   "execution_count": 2,
   "id": "0ffcec34",
   "metadata": {},
   "outputs": [],
   "source": [
    "# Setting random seed for reproducibility\n",
    "np.random.seed(42)\n"
   ]
  },
  {
   "cell_type": "code",
   "execution_count": 3,
   "id": "a40a920a",
   "metadata": {},
   "outputs": [
    {
     "name": "stdout",
     "output_type": "stream",
     "text": [
      "There are 3299523 data points\n"
     ]
    },
    {
     "data": {
      "text/plain": [
       "Index(['Trip ID', 'Taxi ID', 'Trip Start Timestamp', 'Trip End Timestamp',\n",
       "       'Trip Seconds', 'Trip Miles', 'Pickup Census Tract',\n",
       "       'Dropoff Census Tract', 'Pickup Community Area',\n",
       "       'Dropoff Community Area', 'Fare', 'Tips', 'Tolls', 'Extras',\n",
       "       'Trip Total', 'Payment Type', 'Company', 'Pickup Centroid Latitude',\n",
       "       'Pickup Centroid Longitude', 'Pickup Centroid Location',\n",
       "       'Dropoff Centroid Latitude', 'Dropoff Centroid Longitude',\n",
       "       'Dropoff Centroid  Location'],\n",
       "      dtype='object')"
      ]
     },
     "execution_count": 3,
     "metadata": {},
     "output_type": "execute_result"
    }
   ],
   "source": [
    "year = 2021\n",
    "df = pd.read_csv(os.path.join(str(year), \"./chicago_taxi_cleaned.csv\"))\n",
    "print(\"There are {} data points\".format(len(df)))\n",
    "df.columns"
   ]
  },
  {
   "cell_type": "code",
   "execution_count": 4,
   "id": "e7781b42",
   "metadata": {},
   "outputs": [],
   "source": [
    "# Converting trip start and trip end into datetime + extracting time information\n",
    "\n",
    "dtformat = \"%m/%d/%Y %I:%M:%S %p\"\n",
    "tformat = '%H:%M:%S'\n",
    "dformat = \"%m/%d/%Y\"\n",
    "\n",
    "df[\"Trip Start Timestamp\"] = pd.to_datetime(df[\"Trip Start Timestamp\"], format=dtformat)\n",
    "df[\"Trip End Timestamp\"] = pd.to_datetime(df[\"Trip End Timestamp\"], format=dtformat)\n",
    "\n",
    "\n",
    "df[\"Trip Start Time\"] = df[\"Trip Start Timestamp\"].dt.time\n",
    "df[\"Trip End Time\"] = df[\"Trip End Timestamp\"].dt.time\n",
    "\n",
    "df['date'] = df['Trip Start Timestamp'].dt.date\n",
    "df['year'] = df['Trip Start Timestamp'].dt.year\n",
    "df['month'] = df['Trip Start Timestamp'].dt.month\n",
    "df['day'] = df['Trip Start Timestamp'].dt.day\n",
    "df['hour'] = df['Trip Start Timestamp'].dt.hour\n",
    "df['weekday'] = df['Trip Start Timestamp'].dt.day_name()\n"
   ]
  },
  {
   "cell_type": "markdown",
   "id": "e8bf6c9b",
   "metadata": {},
   "source": [
    "According to the website from the chicago government https://www.chicago.gov/content/dam/city/depts/bacp/publicvehicleinfo/Chicabs/chicagotaxiplacard20200629.pdf the basic fare is calculated as follow:\n",
    "\n",
    "- Base Fare \\$3.25 \n",
    "- Each additional mile \\$2.25\n",
    "- Every 36 seconds of elapsed time \\$0.20\n",
    "- First additional passenger (aged 13 through 64) \\$1.00    \n",
    "    - Each additional passenger \\$0.50\n",
    "- Convenience Fee for electronic payment \\$0.50\n",
    "- Vomit Clean-up Fee \\$50.00\n",
    "- Illinois Airport Departure Tax \\$4.00 (for taxi leaving the airports)\n",
    "\n",
    "Clearly the variable fare is affected by several factors:\n",
    "\n",
    "- Whether payment is made in cash, or other electronic payment for which \\$0.50 is incurred\n",
    "- Whether pickup / dropoff involves the Chicago airport\n",
    "- Trip miles \n",
    "- Trip seconds\n",
    "\n",
    "We first perform a simple train-val-test split, allocating 30 \\% of the dataset as the test-set and classify based on a simple rule-based method:\n",
    "\n",
    "Fare = 3.25  + trip_miles * 2.25 + (trip_seconds / 36) * 0.20 + 0.50 * credit_card_payment + 4 * airport_trip\n",
    "\n",
    "In the event where pickup or dropoff community area is not given, we will impute it with the average number of airport trip in the training data\n",
    "\n",
    "To assess the performance of our classifiers, we are going to use the RMSE (root mean squared error) metric defined as:\n",
    "\n",
    "$$ \\text{RMSE} = \\sqrt{\\frac{\\sum_{i=1}^{N}(\\hat{y}_{i}-y_{i})^{2}}{N}} $$\n",
    "\n",
    "where $\\hat{y_{i}}$ and $y_{i}$ are the predicted and actual fare of the $i$-th data point out of $N$ data points. This intuitively measure the average difference between the predicted and measured fare\n",
    "\n",
    "Alternatively, we can also measure the mean absolute error (MAE)\n",
    "\n",
    "$$ \\text{MAE} = \\frac{\\sum_{i=1}^{N}|y_{i} - \\hat{y}_{i}|}{N} $$"
   ]
  },
  {
   "cell_type": "code",
   "execution_count": 5,
   "id": "a5507995",
   "metadata": {},
   "outputs": [
    {
     "name": "stdout",
     "output_type": "stream",
     "text": [
      "1732249 577417 989857\n"
     ]
    }
   ],
   "source": [
    "# We set aside 30% of the data to be the test set \n",
    "# Then we further split 25% of the remaining data to be the validation set\n",
    "\n",
    "train_val_df, test_df = train_test_split(df, test_size=0.3)\n",
    "train_df, val_df = train_test_split(train_val_df, test_size=0.25)\n",
    "print(len(train_df), len(val_df), len(test_df))"
   ]
  },
  {
   "cell_type": "code",
   "execution_count": 6,
   "id": "26073d46",
   "metadata": {},
   "outputs": [],
   "source": [
    "# Importing metric function and defining benchmark classifier calculation\n",
    "# We give the option to include airport or credit card calculation for benchmark\n",
    "\n",
    "from sklearn.metrics import mean_squared_error, mean_absolute_error\n",
    "\n",
    "def calculate_benchmark_classifier(df, include_cc=True, include_airport=True):\n",
    "    is_airport = ((df[\"Pickup Community Area\"] == 76) | (df[\"Dropoff Community Area\"] == 76))\n",
    "    fare = 3.25 + df[\"Trip Miles\"] * 2.25 + df[\"Trip Seconds\"] / 36 * 0.20\n",
    "    if include_cc:\n",
    "        fare += (df[\"Payment Type\"] != 'Cash') * 0.50\n",
    "    if include_airport:\n",
    "        fare += is_airport * 4\n",
    "    return fare.values\n",
    "\n",
    "\n",
    "def calculate_metric(y_true, y_pred, header='Validation'):\n",
    "    print(\"{} results as follow:\".format(header))\n",
    "    print(\"RMSE of {}\".format(mean_squared_error(y_true, y_pred, squared=False)))\n",
    "    print(\"MAE of {}\".format(mean_absolute_error(y_true, y_pred)))\n",
    "    print(\"################\")"
   ]
  },
  {
   "cell_type": "code",
   "execution_count": 14,
   "id": "39e6e13e",
   "metadata": {},
   "outputs": [
    {
     "name": "stdout",
     "output_type": "stream",
     "text": [
      "Validation Benchmark No CC no Airport results as follow:\n",
      "RMSE of 7.72871045716822\n",
      "MAE of 5.429368115051839\n",
      "################\n",
      "Validation Benchmark CC no Airport results as follow:\n",
      "RMSE of 7.88667058655427\n",
      "MAE of 5.675545551231702\n",
      "################\n",
      "Validation Benchmark no CC Airport results as follow:\n",
      "RMSE of 8.401591827917427\n",
      "MAE of 5.975091427281613\n",
      "################\n",
      "Validation Benchmark CC Airport results as follow:\n",
      "RMSE of 8.575892129192477\n",
      "MAE of 6.222267891123556\n",
      "################\n"
     ]
    }
   ],
   "source": [
    "# Setting squared=False to mean_squared_error gives us the RMSE\n",
    "\n",
    "benchmark_prediction_no_cc_no_airport = calculate_benchmark_classifier(val_df, \n",
    "                                                                       include_cc=False,\n",
    "                                                                       include_airport=False)\n",
    "benchmark_prediction_cc_no_airport = calculate_benchmark_classifier(val_df, \n",
    "                                                                    include_cc=True,\n",
    "                                                                    include_airport=False)\n",
    "\n",
    "benchmark_prediction_no_cc_airport = calculate_benchmark_classifier(val_df, \n",
    "                                                                    include_cc=False,\n",
    "                                                                    include_airport=True)\n",
    "\n",
    "benchmark_prediction_cc_airport = calculate_benchmark_classifier(val_df, \n",
    "                                                                 include_cc=True,\n",
    "                                                                 include_airport=True)\n",
    "\n",
    "calculate_metric(val_df[\"Fare\"], benchmark_prediction_no_cc_no_airport, \n",
    "                 header=\"Validation Benchmark No CC no Airport\")\n",
    "calculate_metric(val_df[\"Fare\"], benchmark_prediction_cc_no_airport, \n",
    "                 header=\"Validation Benchmark CC no Airport\")\n",
    "calculate_metric(val_df[\"Fare\"], benchmark_prediction_no_cc_airport, \n",
    "                 header=\"Validation Benchmark no CC Airport\")\n",
    "calculate_metric(val_df[\"Fare\"], benchmark_prediction_cc_airport, \n",
    "                 header=\"Validation Benchmark CC Airport\")\n"
   ]
  },
  {
   "cell_type": "markdown",
   "id": "2afc09d2",
   "metadata": {},
   "source": [
    "The result varies between RMSE of 7.72 to 8.57 with mean absolute error between 5.43 to 6.22 as a benchmark. This suggests some variation in the amount being charged but maybe within a certain range of city guideline. This variation leads us to question whether each company is charging differently or whether at any given time of the day \n",
    "Here we want to clarify a couple of questions with regards to model fit:\n",
    "\n",
    "- Whether different company charges different rates per mile for taxi\n",
    "- Whether airport trip or non-cash payment do incur extra charges\n",
    "- Whether the time of the day or the community area pickup / dropoff affects the charges\n",
    "\n",
    "A good way to answer some of these questions is to first start with a simple linear regression model so that we can see the importance of some of these variables before building mode complicated models. We begin by comparing the coefficient of the models with trip miles and trip seconds vs models with credit card and with airport details"
   ]
  },
  {
   "cell_type": "code",
   "execution_count": 17,
   "id": "8d3a99a5",
   "metadata": {},
   "outputs": [
    {
     "name": "stdout",
     "output_type": "stream",
     "text": [
      "Test Benchmark No CC no Airport results as follow:\n",
      "RMSE of 7.714620095325074\n",
      "MAE of 5.426843878290837\n",
      "################\n",
      "Test Benchmark CC no Airport results as follow:\n",
      "RMSE of 7.872624581604764\n",
      "MAE of 5.672779886107005\n",
      "################\n",
      "Test Benchmark no CC Airport results as follow:\n",
      "RMSE of 8.391132989006024\n",
      "MAE of 5.974203137703504\n",
      "################\n",
      "Test Benchmark CC Airport results as follow:\n",
      "RMSE of 8.565388071962378\n",
      "MAE of 6.221097582501541\n",
      "################\n"
     ]
    }
   ],
   "source": [
    "benchmark_prediction_no_cc_no_airport = calculate_benchmark_classifier(test_df, \n",
    "                                                                       include_cc=False,\n",
    "                                                                       include_airport=False)\n",
    "benchmark_prediction_cc_no_airport = calculate_benchmark_classifier(test_df, \n",
    "                                                                    include_cc=True,\n",
    "                                                                    include_airport=False)\n",
    "\n",
    "benchmark_prediction_no_cc_airport = calculate_benchmark_classifier(test_df, \n",
    "                                                                    include_cc=False,\n",
    "                                                                    include_airport=True)\n",
    "\n",
    "benchmark_prediction_cc_airport = calculate_benchmark_classifier(test_df, \n",
    "                                                                 include_cc=True,\n",
    "                                                                 include_airport=True)\n",
    "\n",
    "calculate_metric(test_df[\"Fare\"], benchmark_prediction_no_cc_no_airport, \n",
    "                 header=\"Test Benchmark No CC no Airport\")\n",
    "calculate_metric(test_df[\"Fare\"], benchmark_prediction_cc_no_airport, \n",
    "                 header=\"Test Benchmark CC no Airport\")\n",
    "calculate_metric(test_df[\"Fare\"], benchmark_prediction_no_cc_airport, \n",
    "                 header=\"Test Benchmark no CC Airport\")\n",
    "calculate_metric(test_df[\"Fare\"], benchmark_prediction_cc_airport, \n",
    "                 header=\"Test Benchmark CC Airport\")"
   ]
  },
  {
   "cell_type": "markdown",
   "id": "75f48498",
   "metadata": {},
   "source": [
    "This performance is similar in the test-set where the no cc no airport model performs the best with RMSE 7.71 and MAE of 5.43"
   ]
  },
  {
   "cell_type": "code",
   "execution_count": 7,
   "id": "0d597a2d",
   "metadata": {},
   "outputs": [],
   "source": [
    "def extract_features(df, features, include_non_cash=True, include_airport=True, \n",
    "                     include_community=False):\n",
    "    features = df[features]\n",
    "    if include_airport:\n",
    "        features[\"is_airport\"] = ((df[\"Pickup Community Area\"] == 76) \\\n",
    "                                | (df[\"Dropoff Community Area\"] == 76)).values * 1\n",
    "    if include_non_cash:\n",
    "        features[\"is_cash\"] = (df[\"Payment Type\"] == 'Cash').values * 1\n",
    "\n",
    "    if include_community:\n",
    "        ca_dtype = pd.CategoricalDtype(categories=np.arange(1, 79))\n",
    "\n",
    "        df_pickup_ca = pd.get_dummies(df[\"Pickup Community Area\"]\\\n",
    "                                          .astype(ca_dtype).fillna(78))\n",
    "        df_dropoff_ca = pd.get_dummies(df[\"Dropoff Community Area\"]\\\n",
    "                                           .astype(ca_dtype).fillna(78))\n",
    "        features = pd.concat([features, df_pickup_ca, df_dropoff_ca], axis=1)\n",
    "    return features\n",
    "\n",
    "\n",
    "def fit_ols_model(features_df, fares, include_constant=True):\n",
    "    model = sm.OLS(fares.values,\n",
    "                   sm.add_constant(features_df))\n",
    "    model = model.fit()\n",
    "    return model\n",
    "\n",
    "\n",
    "def predict_ols_model(model, features_df, include_constant=True):\n",
    "    if include_constant:\n",
    "        return model.predict(sm.add_constant(features_df))\n",
    "    else:\n",
    "        return model.predict(features_df)\n"
   ]
  },
  {
   "cell_type": "code",
   "execution_count": 9,
   "id": "a18a013f",
   "metadata": {},
   "outputs": [
    {
     "data": {
      "text/html": [
       "<table class=\"simpletable\">\n",
       "<caption>OLS Regression Results</caption>\n",
       "<tr>\n",
       "  <th>Dep. Variable:</th>            <td>y</td>        <th>  R-squared:         </th>  <td>   0.875</td>  \n",
       "</tr>\n",
       "<tr>\n",
       "  <th>Model:</th>                   <td>OLS</td>       <th>  Adj. R-squared:    </th>  <td>   0.875</td>  \n",
       "</tr>\n",
       "<tr>\n",
       "  <th>Method:</th>             <td>Least Squares</td>  <th>  F-statistic:       </th>  <td>6.066e+06</td> \n",
       "</tr>\n",
       "<tr>\n",
       "  <th>Date:</th>             <td>Mon, 24 Oct 2022</td> <th>  Prob (F-statistic):</th>   <td>  0.00</td>   \n",
       "</tr>\n",
       "<tr>\n",
       "  <th>Time:</th>                 <td>00:04:27</td>     <th>  Log-Likelihood:    </th> <td>-5.3988e+06</td>\n",
       "</tr>\n",
       "<tr>\n",
       "  <th>No. Observations:</th>      <td>1732249</td>     <th>  AIC:               </th>  <td>1.080e+07</td> \n",
       "</tr>\n",
       "<tr>\n",
       "  <th>Df Residuals:</th>          <td>1732246</td>     <th>  BIC:               </th>  <td>1.080e+07</td> \n",
       "</tr>\n",
       "<tr>\n",
       "  <th>Df Model:</th>              <td>     2</td>      <th>                     </th>      <td> </td>     \n",
       "</tr>\n",
       "<tr>\n",
       "  <th>Covariance Type:</th>      <td>nonrobust</td>    <th>                     </th>      <td> </td>     \n",
       "</tr>\n",
       "</table>\n",
       "<table class=\"simpletable\">\n",
       "<tr>\n",
       "        <td></td>          <th>coef</th>     <th>std err</th>      <th>t</th>      <th>P>|t|</th>  <th>[0.025</th>    <th>0.975]</th>  \n",
       "</tr>\n",
       "<tr>\n",
       "  <th>const</th>        <td>    3.8246</td> <td>    0.007</td> <td>  544.269</td> <td> 0.000</td> <td>    3.811</td> <td>    3.838</td>\n",
       "</tr>\n",
       "<tr>\n",
       "  <th>Trip Miles</th>   <td>    1.5357</td> <td>    0.001</td> <td> 1787.662</td> <td> 0.000</td> <td>    1.534</td> <td>    1.537</td>\n",
       "</tr>\n",
       "<tr>\n",
       "  <th>Trip Seconds</th> <td>    0.0063</td> <td> 6.54e-06</td> <td>  958.465</td> <td> 0.000</td> <td>    0.006</td> <td>    0.006</td>\n",
       "</tr>\n",
       "</table>\n",
       "<table class=\"simpletable\">\n",
       "<tr>\n",
       "  <th>Omnibus:</th>       <td>1471455.104</td> <th>  Durbin-Watson:     </th>   <td>   1.999</td>  \n",
       "</tr>\n",
       "<tr>\n",
       "  <th>Prob(Omnibus):</th>   <td> 0.000</td>    <th>  Jarque-Bera (JB):  </th> <td>66277527.113</td>\n",
       "</tr>\n",
       "<tr>\n",
       "  <th>Skew:</th>            <td> 3.884</td>    <th>  Prob(JB):          </th>   <td>    0.00</td>  \n",
       "</tr>\n",
       "<tr>\n",
       "  <th>Kurtosis:</th>        <td>32.290</td>    <th>  Cond. No.          </th>   <td>2.49e+03</td>  \n",
       "</tr>\n",
       "</table><br/><br/>Notes:<br/>[1] Standard Errors assume that the covariance matrix of the errors is correctly specified.<br/>[2] The condition number is large, 2.49e+03. This might indicate that there are<br/>strong multicollinearity or other numerical problems."
      ],
      "text/plain": [
       "<class 'statsmodels.iolib.summary.Summary'>\n",
       "\"\"\"\n",
       "                            OLS Regression Results                            \n",
       "==============================================================================\n",
       "Dep. Variable:                      y   R-squared:                       0.875\n",
       "Model:                            OLS   Adj. R-squared:                  0.875\n",
       "Method:                 Least Squares   F-statistic:                 6.066e+06\n",
       "Date:                Mon, 24 Oct 2022   Prob (F-statistic):               0.00\n",
       "Time:                        00:04:27   Log-Likelihood:            -5.3988e+06\n",
       "No. Observations:             1732249   AIC:                         1.080e+07\n",
       "Df Residuals:                 1732246   BIC:                         1.080e+07\n",
       "Df Model:                           2                                         \n",
       "Covariance Type:            nonrobust                                         \n",
       "================================================================================\n",
       "                   coef    std err          t      P>|t|      [0.025      0.975]\n",
       "--------------------------------------------------------------------------------\n",
       "const            3.8246      0.007    544.269      0.000       3.811       3.838\n",
       "Trip Miles       1.5357      0.001   1787.662      0.000       1.534       1.537\n",
       "Trip Seconds     0.0063   6.54e-06    958.465      0.000       0.006       0.006\n",
       "==============================================================================\n",
       "Omnibus:                  1471455.104   Durbin-Watson:                   1.999\n",
       "Prob(Omnibus):                  0.000   Jarque-Bera (JB):         66277527.113\n",
       "Skew:                           3.884   Prob(JB):                         0.00\n",
       "Kurtosis:                      32.290   Cond. No.                     2.49e+03\n",
       "==============================================================================\n",
       "\n",
       "Notes:\n",
       "[1] Standard Errors assume that the covariance matrix of the errors is correctly specified.\n",
       "[2] The condition number is large, 2.49e+03. This might indicate that there are\n",
       "strong multicollinearity or other numerical problems.\n",
       "\"\"\""
      ]
     },
     "execution_count": 9,
     "metadata": {},
     "output_type": "execute_result"
    }
   ],
   "source": [
    "features = [\"Trip Miles\", \"Trip Seconds\"]\n",
    "include_non_cash = False\n",
    "include_airport = False\n",
    "\n",
    "\n",
    "train_features = extract_features(train_df, features, \n",
    "                                  include_non_cash=include_non_cash, \n",
    "                                  include_airport=include_airport)\n",
    "train_fares = train_df[\"Fare\"]\n",
    "\n",
    "val_features = extract_features(val_df, features,\n",
    "                                include_non_cash=include_non_cash, \n",
    "                                include_airport=include_airport)\n",
    "val_fares = val_df[\"Fare\"]\n",
    "\n",
    "ols_model = fit_ols_model(train_features, train_fares, include_constant=True)\n",
    "ols_model.summary()"
   ]
  },
  {
   "cell_type": "markdown",
   "id": "f6af1aa2",
   "metadata": {},
   "source": [
    "Firstly we see that trip seconds coefficient at 0.0063 is similar to the recommended guideline by the city which charges 0.20 for every 36 seconds passed (0.0063 * 36 = 0.2268). The constant value 3.82 is a bit off from the surcharge 3.25 and the additional miule charge amounts to 1.54. The model also indicates a good fit with Adj. R-squared of 0.875 "
   ]
  },
  {
   "cell_type": "code",
   "execution_count": 10,
   "id": "c0eb0081",
   "metadata": {},
   "outputs": [
    {
     "name": "stdout",
     "output_type": "stream",
     "text": [
      "Validation Benchmark OLS model with 2 variables results as follow:\n",
      "RMSE of 5.473495063078026\n",
      "MAE of 2.882093096181407\n",
      "################\n"
     ]
    }
   ],
   "source": [
    "val_pred = predict_ols_model(ols_model, val_features)\n",
    "calculate_metric(val_fares, val_pred, \n",
    "                 header=\"Validation Benchmark OLS model with 2 variables\")"
   ]
  },
  {
   "cell_type": "markdown",
   "id": "cade13c5",
   "metadata": {},
   "source": [
    "Most importantly perhaps we see a much better RMSE and MAE compared to the benchmark model. This suggests and average of 2.88 prediction off with a standard deviation of 5.47. Next we try to include non-cash payment information and airport information"
   ]
  },
  {
   "cell_type": "code",
   "execution_count": 11,
   "id": "11d073af",
   "metadata": {},
   "outputs": [
    {
     "name": "stderr",
     "output_type": "stream",
     "text": [
      "/home/christopher/miniconda3/envs/taxi_analysis/lib/python3.7/site-packages/ipykernel_launcher.py:6: SettingWithCopyWarning: \n",
      "A value is trying to be set on a copy of a slice from a DataFrame.\n",
      "Try using .loc[row_indexer,col_indexer] = value instead\n",
      "\n",
      "See the caveats in the documentation: https://pandas.pydata.org/pandas-docs/stable/user_guide/indexing.html#returning-a-view-versus-a-copy\n",
      "  \n",
      "/home/christopher/miniconda3/envs/taxi_analysis/lib/python3.7/site-packages/ipykernel_launcher.py:8: SettingWithCopyWarning: \n",
      "A value is trying to be set on a copy of a slice from a DataFrame.\n",
      "Try using .loc[row_indexer,col_indexer] = value instead\n",
      "\n",
      "See the caveats in the documentation: https://pandas.pydata.org/pandas-docs/stable/user_guide/indexing.html#returning-a-view-versus-a-copy\n",
      "  \n"
     ]
    },
    {
     "data": {
      "text/html": [
       "<table class=\"simpletable\">\n",
       "<caption>OLS Regression Results</caption>\n",
       "<tr>\n",
       "  <th>Dep. Variable:</th>            <td>y</td>        <th>  R-squared:         </th>  <td>   0.881</td>  \n",
       "</tr>\n",
       "<tr>\n",
       "  <th>Model:</th>                   <td>OLS</td>       <th>  Adj. R-squared:    </th>  <td>   0.881</td>  \n",
       "</tr>\n",
       "<tr>\n",
       "  <th>Method:</th>             <td>Least Squares</td>  <th>  F-statistic:       </th>  <td>3.200e+06</td> \n",
       "</tr>\n",
       "<tr>\n",
       "  <th>Date:</th>             <td>Mon, 24 Oct 2022</td> <th>  Prob (F-statistic):</th>   <td>  0.00</td>   \n",
       "</tr>\n",
       "<tr>\n",
       "  <th>Time:</th>                 <td>00:04:28</td>     <th>  Log-Likelihood:    </th> <td>-5.3580e+06</td>\n",
       "</tr>\n",
       "<tr>\n",
       "  <th>No. Observations:</th>      <td>1732249</td>     <th>  AIC:               </th>  <td>1.072e+07</td> \n",
       "</tr>\n",
       "<tr>\n",
       "  <th>Df Residuals:</th>          <td>1732244</td>     <th>  BIC:               </th>  <td>1.072e+07</td> \n",
       "</tr>\n",
       "<tr>\n",
       "  <th>Df Model:</th>              <td>     4</td>      <th>                     </th>      <td> </td>     \n",
       "</tr>\n",
       "<tr>\n",
       "  <th>Covariance Type:</th>      <td>nonrobust</td>    <th>                     </th>      <td> </td>     \n",
       "</tr>\n",
       "</table>\n",
       "<table class=\"simpletable\">\n",
       "<tr>\n",
       "        <td></td>          <th>coef</th>     <th>std err</th>      <th>t</th>      <th>P>|t|</th>  <th>[0.025</th>    <th>0.975]</th>  \n",
       "</tr>\n",
       "<tr>\n",
       "  <th>const</th>        <td>    4.1699</td> <td>    0.008</td> <td>  518.975</td> <td> 0.000</td> <td>    4.154</td> <td>    4.186</td>\n",
       "</tr>\n",
       "<tr>\n",
       "  <th>Trip Miles</th>   <td>    1.4424</td> <td>    0.001</td> <td> 1604.436</td> <td> 0.000</td> <td>    1.441</td> <td>    1.444</td>\n",
       "</tr>\n",
       "<tr>\n",
       "  <th>Trip Seconds</th> <td>    0.0061</td> <td> 6.42e-06</td> <td>  954.459</td> <td> 0.000</td> <td>    0.006</td> <td>    0.006</td>\n",
       "</tr>\n",
       "<tr>\n",
       "  <th>is_airport</th>   <td>    3.5078</td> <td>    0.012</td> <td>  284.356</td> <td> 0.000</td> <td>    3.484</td> <td>    3.532</td>\n",
       "</tr>\n",
       "<tr>\n",
       "  <th>is_cash</th>      <td>   -0.4761</td> <td>    0.009</td> <td>  -55.754</td> <td> 0.000</td> <td>   -0.493</td> <td>   -0.459</td>\n",
       "</tr>\n",
       "</table>\n",
       "<table class=\"simpletable\">\n",
       "<tr>\n",
       "  <th>Omnibus:</th>       <td>1433390.201</td> <th>  Durbin-Watson:     </th>   <td>   2.000</td>  \n",
       "</tr>\n",
       "<tr>\n",
       "  <th>Prob(Omnibus):</th>   <td> 0.000</td>    <th>  Jarque-Bera (JB):  </th> <td>65788379.333</td>\n",
       "</tr>\n",
       "<tr>\n",
       "  <th>Skew:</th>            <td> 3.713</td>    <th>  Prob(JB):          </th>   <td>    0.00</td>  \n",
       "</tr>\n",
       "<tr>\n",
       "  <th>Kurtosis:</th>        <td>32.263</td>    <th>  Cond. No.          </th>   <td>4.49e+03</td>  \n",
       "</tr>\n",
       "</table><br/><br/>Notes:<br/>[1] Standard Errors assume that the covariance matrix of the errors is correctly specified.<br/>[2] The condition number is large, 4.49e+03. This might indicate that there are<br/>strong multicollinearity or other numerical problems."
      ],
      "text/plain": [
       "<class 'statsmodels.iolib.summary.Summary'>\n",
       "\"\"\"\n",
       "                            OLS Regression Results                            \n",
       "==============================================================================\n",
       "Dep. Variable:                      y   R-squared:                       0.881\n",
       "Model:                            OLS   Adj. R-squared:                  0.881\n",
       "Method:                 Least Squares   F-statistic:                 3.200e+06\n",
       "Date:                Mon, 24 Oct 2022   Prob (F-statistic):               0.00\n",
       "Time:                        00:04:28   Log-Likelihood:            -5.3580e+06\n",
       "No. Observations:             1732249   AIC:                         1.072e+07\n",
       "Df Residuals:                 1732244   BIC:                         1.072e+07\n",
       "Df Model:                           4                                         \n",
       "Covariance Type:            nonrobust                                         \n",
       "================================================================================\n",
       "                   coef    std err          t      P>|t|      [0.025      0.975]\n",
       "--------------------------------------------------------------------------------\n",
       "const            4.1699      0.008    518.975      0.000       4.154       4.186\n",
       "Trip Miles       1.4424      0.001   1604.436      0.000       1.441       1.444\n",
       "Trip Seconds     0.0061   6.42e-06    954.459      0.000       0.006       0.006\n",
       "is_airport       3.5078      0.012    284.356      0.000       3.484       3.532\n",
       "is_cash         -0.4761      0.009    -55.754      0.000      -0.493      -0.459\n",
       "==============================================================================\n",
       "Omnibus:                  1433390.201   Durbin-Watson:                   2.000\n",
       "Prob(Omnibus):                  0.000   Jarque-Bera (JB):         65788379.333\n",
       "Skew:                           3.713   Prob(JB):                         0.00\n",
       "Kurtosis:                      32.263   Cond. No.                     4.49e+03\n",
       "==============================================================================\n",
       "\n",
       "Notes:\n",
       "[1] Standard Errors assume that the covariance matrix of the errors is correctly specified.\n",
       "[2] The condition number is large, 4.49e+03. This might indicate that there are\n",
       "strong multicollinearity or other numerical problems.\n",
       "\"\"\""
      ]
     },
     "execution_count": 11,
     "metadata": {},
     "output_type": "execute_result"
    }
   ],
   "source": [
    "include_non_cash = True\n",
    "include_airport = True\n",
    "train_features = extract_features(train_df, features, \n",
    "                                  include_non_cash=include_non_cash, \n",
    "                                  include_airport=include_airport)\n",
    "train_fares = train_df[\"Fare\"]\n",
    "\n",
    "val_features = extract_features(val_df, features,\n",
    "                                include_non_cash=include_non_cash, \n",
    "                                include_airport=include_airport)\n",
    "val_fares = val_df[\"Fare\"]\n",
    "\n",
    "ols_model = fit_ols_model(train_features, train_fares, include_constant=True)\n",
    "ols_model.summary()\n"
   ]
  },
  {
   "cell_type": "markdown",
   "id": "b986b876",
   "metadata": {},
   "source": [
    "Despite the strong multiollinearity, the coefficient of the variables seem to be convincing enough. For example, the trip second is close to the 0.2 charge per 36 seconds $(0.0061 \\times 36 = 0.22)$, while paying with cash saves us roughly 0.47 cents, which is similar to the electronic payment surcharge of 0.50 cents in the chicago city guidelines. When pickup point or dropoff is at the airport, there is an additional 3.5 to the fare as well, which is close to the guideline of 4 fee for entering the airport. \n",
    "\n",
    "The cost per mile however is a bit off from the baseline of 2.25 per mile and the minimum fare as indicated by the constant parameter is off from the 3.25 baseline as indicated in the guidelines. Again, these discrepancies suggest measurement error in the trip miles or seconds, or perhaps some underlying discrepancies charged by different companies. Let's try replacing the trip with interaction terms with each company"
   ]
  },
  {
   "cell_type": "code",
   "execution_count": 12,
   "id": "3e6e4fd3",
   "metadata": {},
   "outputs": [
    {
     "name": "stdout",
     "output_type": "stream",
     "text": [
      "Validation Benchmark OLS model with 2 variables results as follow:\n",
      "RMSE of 5.3472655752650216\n",
      "MAE of 2.8834547597843216\n",
      "################\n"
     ]
    }
   ],
   "source": [
    "val_pred = predict_ols_model(ols_model, val_features)\n",
    "calculate_metric(val_fares, val_pred, \n",
    "                 header=\"Validation Benchmark OLS model with 2 variables\")"
   ]
  },
  {
   "cell_type": "markdown",
   "id": "ba591d7a",
   "metadata": {},
   "source": [
    "Just a slight improvement on the RMSE  and MAE but regardless the coefficients are convincing enough that the slight improvement might be the result of a missing features. Next we try to see if different companies might charge differently per mile "
   ]
  },
  {
   "cell_type": "code",
   "execution_count": 13,
   "id": "4d49f89d",
   "metadata": {},
   "outputs": [
    {
     "data": {
      "text/html": [
       "<table class=\"simpletable\">\n",
       "<caption>OLS Regression Results</caption>\n",
       "<tr>\n",
       "  <th>Dep. Variable:</th>            <td>y</td>        <th>  R-squared:         </th>  <td>   0.882</td>  \n",
       "</tr>\n",
       "<tr>\n",
       "  <th>Model:</th>                   <td>OLS</td>       <th>  Adj. R-squared:    </th>  <td>   0.882</td>  \n",
       "</tr>\n",
       "<tr>\n",
       "  <th>Method:</th>             <td>Least Squares</td>  <th>  F-statistic:       </th>  <td>3.236e+05</td> \n",
       "</tr>\n",
       "<tr>\n",
       "  <th>Date:</th>             <td>Mon, 24 Oct 2022</td> <th>  Prob (F-statistic):</th>   <td>  0.00</td>   \n",
       "</tr>\n",
       "<tr>\n",
       "  <th>Time:</th>                 <td>00:04:37</td>     <th>  Log-Likelihood:    </th> <td>-5.3494e+06</td>\n",
       "</tr>\n",
       "<tr>\n",
       "  <th>No. Observations:</th>      <td>1732249</td>     <th>  AIC:               </th>  <td>1.070e+07</td> \n",
       "</tr>\n",
       "<tr>\n",
       "  <th>Df Residuals:</th>          <td>1732208</td>     <th>  BIC:               </th>  <td>1.070e+07</td> \n",
       "</tr>\n",
       "<tr>\n",
       "  <th>Df Model:</th>              <td>    40</td>      <th>                     </th>      <td> </td>     \n",
       "</tr>\n",
       "<tr>\n",
       "  <th>Covariance Type:</th>      <td>nonrobust</td>    <th>                     </th>      <td> </td>     \n",
       "</tr>\n",
       "</table>\n",
       "<table class=\"simpletable\">\n",
       "<tr>\n",
       "                        <td></td>                          <th>coef</th>     <th>std err</th>      <th>t</th>      <th>P>|t|</th>  <th>[0.025</th>    <th>0.975]</th>  \n",
       "</tr>\n",
       "<tr>\n",
       "  <th>const</th>                                        <td>    4.1615</td> <td>    0.008</td> <td>  519.451</td> <td> 0.000</td> <td>    4.146</td> <td>    4.177</td>\n",
       "</tr>\n",
       "<tr>\n",
       "  <th>24 Seven Taxi</th>                                <td>    1.4233</td> <td>    0.004</td> <td>  363.253</td> <td> 0.000</td> <td>    1.416</td> <td>    1.431</td>\n",
       "</tr>\n",
       "<tr>\n",
       "  <th>2733 - 74600 Benny Jona</th>                      <td>    1.2927</td> <td>    0.015</td> <td>   86.932</td> <td> 0.000</td> <td>    1.264</td> <td>    1.322</td>\n",
       "</tr>\n",
       "<tr>\n",
       "  <th>3011 - 66308 JBL Cab Inc.</th>                    <td>    1.1897</td> <td>    0.289</td> <td>    4.114</td> <td> 0.000</td> <td>    0.623</td> <td>    1.757</td>\n",
       "</tr>\n",
       "<tr>\n",
       "  <th>312 Medallion Management Corp</th>                <td>    1.3834</td> <td>    0.007</td> <td>  196.982</td> <td> 0.000</td> <td>    1.370</td> <td>    1.397</td>\n",
       "</tr>\n",
       "<tr>\n",
       "  <th>3556 - 36214 RC Andrews Cab</th>                  <td>    1.3865</td> <td>    0.023</td> <td>   60.030</td> <td> 0.000</td> <td>    1.341</td> <td>    1.432</td>\n",
       "</tr>\n",
       "<tr>\n",
       "  <th>3591 - 63480 Chuks Cab</th>                       <td>    1.0735</td> <td>    0.041</td> <td>   26.002</td> <td> 0.000</td> <td>    0.993</td> <td>    1.154</td>\n",
       "</tr>\n",
       "<tr>\n",
       "  <th>3620 - 52292 David K. Cab Corp.</th>              <td>    1.3540</td> <td>    0.014</td> <td>   98.932</td> <td> 0.000</td> <td>    1.327</td> <td>    1.381</td>\n",
       "</tr>\n",
       "<tr>\n",
       "  <th>3721 - Santamaria Express, Alvaro Santamaria</th> <td>    1.3443</td> <td>    0.126</td> <td>   10.691</td> <td> 0.000</td> <td>    1.098</td> <td>    1.591</td>\n",
       "</tr>\n",
       "<tr>\n",
       "  <th>4053 - 40193 Adwar H. Nikola</th>                 <td>    1.2694</td> <td>    0.036</td> <td>   35.576</td> <td> 0.000</td> <td>    1.199</td> <td>    1.339</td>\n",
       "</tr>\n",
       "<tr>\n",
       "  <th>4523 - 79481 Hazel Transit Inc</th>               <td>    1.2590</td> <td>    0.140</td> <td>    8.965</td> <td> 0.000</td> <td>    0.984</td> <td>    1.534</td>\n",
       "</tr>\n",
       "<tr>\n",
       "  <th>4623 - 27290 Jay Kim</th>                         <td>    1.5044</td> <td>    0.016</td> <td>   94.405</td> <td> 0.000</td> <td>    1.473</td> <td>    1.536</td>\n",
       "</tr>\n",
       "<tr>\n",
       "  <th>4787 - 56058 Reny Cab Co</th>                     <td>    1.3430</td> <td>    0.055</td> <td>   24.390</td> <td> 0.000</td> <td>    1.235</td> <td>    1.451</td>\n",
       "</tr>\n",
       "<tr>\n",
       "  <th>5062 - 34841 Sam Mestas</th>                      <td>    1.2254</td> <td>    0.061</td> <td>   19.982</td> <td> 0.000</td> <td>    1.105</td> <td>    1.346</td>\n",
       "</tr>\n",
       "<tr>\n",
       "  <th>6574 - Babylon Express Inc.</th>                  <td>    1.2016</td> <td>    0.029</td> <td>   42.019</td> <td> 0.000</td> <td>    1.146</td> <td>    1.258</td>\n",
       "</tr>\n",
       "<tr>\n",
       "  <th>6743 - 78771 Luhak Corp</th>                      <td>    1.4488</td> <td>    0.072</td> <td>   20.147</td> <td> 0.000</td> <td>    1.308</td> <td>    1.590</td>\n",
       "</tr>\n",
       "<tr>\n",
       "  <th>Blue Ribbon Taxi Association Inc.</th>            <td>    1.4156</td> <td>    0.004</td> <td>  404.412</td> <td> 0.000</td> <td>    1.409</td> <td>    1.422</td>\n",
       "</tr>\n",
       "<tr>\n",
       "  <th>Chicago Independents</th>                         <td>    1.4100</td> <td>    0.002</td> <td>  642.993</td> <td> 0.000</td> <td>    1.406</td> <td>    1.414</td>\n",
       "</tr>\n",
       "<tr>\n",
       "  <th>Chicago Taxicab</th>                              <td>    1.3092</td> <td>    0.004</td> <td>  327.211</td> <td> 0.000</td> <td>    1.301</td> <td>    1.317</td>\n",
       "</tr>\n",
       "<tr>\n",
       "  <th>Choice Taxi Association</th>                      <td>    1.3400</td> <td>    0.003</td> <td>  383.826</td> <td> 0.000</td> <td>    1.333</td> <td>    1.347</td>\n",
       "</tr>\n",
       "<tr>\n",
       "  <th>City Service</th>                                 <td>    1.4149</td> <td>    0.002</td> <td>  818.916</td> <td> 0.000</td> <td>    1.412</td> <td>    1.418</td>\n",
       "</tr>\n",
       "<tr>\n",
       "  <th>Flash Cab</th>                                    <td>    1.5129</td> <td>    0.001</td> <td> 1393.663</td> <td> 0.000</td> <td>    1.511</td> <td>    1.515</td>\n",
       "</tr>\n",
       "<tr>\n",
       "  <th>Globe Taxi</th>                                   <td>    1.4406</td> <td>    0.003</td> <td>  560.032</td> <td> 0.000</td> <td>    1.436</td> <td>    1.446</td>\n",
       "</tr>\n",
       "<tr>\n",
       "  <th>KOAM Taxi Association</th>                        <td>    1.3427</td> <td>    0.008</td> <td>  162.926</td> <td> 0.000</td> <td>    1.327</td> <td>    1.359</td>\n",
       "</tr>\n",
       "<tr>\n",
       "  <th>Medallion Leasin</th>                             <td>    1.3744</td> <td>    0.002</td> <td>  728.858</td> <td> 0.000</td> <td>    1.371</td> <td>    1.378</td>\n",
       "</tr>\n",
       "<tr>\n",
       "  <th>Metro Jet Cab Association Inc.</th>               <td>    1.5565</td> <td>    0.054</td> <td>   28.813</td> <td> 0.000</td> <td>    1.451</td> <td>    1.662</td>\n",
       "</tr>\n",
       "<tr>\n",
       "  <th>Metro Jet Taxi A.</th>                            <td>    1.3641</td> <td>    0.020</td> <td>   66.586</td> <td> 0.000</td> <td>    1.324</td> <td>    1.404</td>\n",
       "</tr>\n",
       "<tr>\n",
       "  <th>Metro Jet Taxi Ass</th>                           <td>    1.4953</td> <td>    0.020</td> <td>   72.941</td> <td> 0.000</td> <td>    1.455</td> <td>    1.535</td>\n",
       "</tr>\n",
       "<tr>\n",
       "  <th>Patriot Taxi Dba Peace Taxi Associat</th>         <td>    1.4585</td> <td>    0.007</td> <td>  219.104</td> <td> 0.000</td> <td>    1.445</td> <td>    1.472</td>\n",
       "</tr>\n",
       "<tr>\n",
       "  <th>Petani Cab Corp</th>                              <td>    1.3230</td> <td>    0.010</td> <td>  135.157</td> <td> 0.000</td> <td>    1.304</td> <td>    1.342</td>\n",
       "</tr>\n",
       "<tr>\n",
       "  <th>Setare Inc</th>                                   <td>    1.4226</td> <td>    0.009</td> <td>  165.871</td> <td> 0.000</td> <td>    1.406</td> <td>    1.439</td>\n",
       "</tr>\n",
       "<tr>\n",
       "  <th>Star North Management LLC</th>                    <td>    1.3364</td> <td>    0.003</td> <td>  432.292</td> <td> 0.000</td> <td>    1.330</td> <td>    1.342</td>\n",
       "</tr>\n",
       "<tr>\n",
       "  <th>Sun Taxi</th>                                     <td>    1.4187</td> <td>    0.002</td> <td>  884.433</td> <td> 0.000</td> <td>    1.416</td> <td>    1.422</td>\n",
       "</tr>\n",
       "<tr>\n",
       "  <th>Taxi Affiliation Services</th>                    <td>    1.4452</td> <td>    0.001</td> <td> 1048.101</td> <td> 0.000</td> <td>    1.442</td> <td>    1.448</td>\n",
       "</tr>\n",
       "<tr>\n",
       "  <th>Taxicab Insurance Agency, LLC</th>                <td>    1.3585</td> <td>    0.002</td> <td>  732.477</td> <td> 0.000</td> <td>    1.355</td> <td>    1.362</td>\n",
       "</tr>\n",
       "<tr>\n",
       "  <th>Top Cab</th>                                      <td>   -0.3537</td> <td>    3.753</td> <td>   -0.094</td> <td> 0.925</td> <td>   -7.709</td> <td>    7.002</td>\n",
       "</tr>\n",
       "<tr>\n",
       "  <th>Top Cab Affiliation</th>                          <td>    1.3738</td> <td>    0.002</td> <td>  582.417</td> <td> 0.000</td> <td>    1.369</td> <td>    1.378</td>\n",
       "</tr>\n",
       "<tr>\n",
       "  <th>U Taxicab</th>                                    <td>    1.3968</td> <td>    0.003</td> <td>  460.375</td> <td> 0.000</td> <td>    1.391</td> <td>    1.403</td>\n",
       "</tr>\n",
       "<tr>\n",
       "  <th>Trip Seconds</th>                                 <td>    0.0061</td> <td>  6.4e-06</td> <td>  951.940</td> <td> 0.000</td> <td>    0.006</td> <td>    0.006</td>\n",
       "</tr>\n",
       "<tr>\n",
       "  <th>is_cash</th>                                      <td>   -0.5081</td> <td>    0.009</td> <td>  -59.659</td> <td> 0.000</td> <td>   -0.525</td> <td>   -0.491</td>\n",
       "</tr>\n",
       "<tr>\n",
       "  <th>is_airport</th>                                   <td>    3.9052</td> <td>    0.013</td> <td>  306.577</td> <td> 0.000</td> <td>    3.880</td> <td>    3.930</td>\n",
       "</tr>\n",
       "</table>\n",
       "<table class=\"simpletable\">\n",
       "<tr>\n",
       "  <th>Omnibus:</th>       <td>1434052.140</td> <th>  Durbin-Watson:     </th>   <td>   2.000</td>  \n",
       "</tr>\n",
       "<tr>\n",
       "  <th>Prob(Omnibus):</th>   <td> 0.000</td>    <th>  Jarque-Bera (JB):  </th> <td>64537462.052</td>\n",
       "</tr>\n",
       "<tr>\n",
       "  <th>Skew:</th>            <td> 3.724</td>    <th>  Prob(JB):          </th>   <td>    0.00</td>  \n",
       "</tr>\n",
       "<tr>\n",
       "  <th>Kurtosis:</th>        <td>31.960</td>    <th>  Cond. No.          </th>   <td>1.37e+06</td>  \n",
       "</tr>\n",
       "</table><br/><br/>Notes:<br/>[1] Standard Errors assume that the covariance matrix of the errors is correctly specified.<br/>[2] The condition number is large, 1.37e+06. This might indicate that there are<br/>strong multicollinearity or other numerical problems."
      ],
      "text/plain": [
       "<class 'statsmodels.iolib.summary.Summary'>\n",
       "\"\"\"\n",
       "                            OLS Regression Results                            \n",
       "==============================================================================\n",
       "Dep. Variable:                      y   R-squared:                       0.882\n",
       "Model:                            OLS   Adj. R-squared:                  0.882\n",
       "Method:                 Least Squares   F-statistic:                 3.236e+05\n",
       "Date:                Mon, 24 Oct 2022   Prob (F-statistic):               0.00\n",
       "Time:                        00:04:37   Log-Likelihood:            -5.3494e+06\n",
       "No. Observations:             1732249   AIC:                         1.070e+07\n",
       "Df Residuals:                 1732208   BIC:                         1.070e+07\n",
       "Df Model:                          40                                         \n",
       "Covariance Type:            nonrobust                                         \n",
       "================================================================================================================\n",
       "                                                   coef    std err          t      P>|t|      [0.025      0.975]\n",
       "----------------------------------------------------------------------------------------------------------------\n",
       "const                                            4.1615      0.008    519.451      0.000       4.146       4.177\n",
       "24 Seven Taxi                                    1.4233      0.004    363.253      0.000       1.416       1.431\n",
       "2733 - 74600 Benny Jona                          1.2927      0.015     86.932      0.000       1.264       1.322\n",
       "3011 - 66308 JBL Cab Inc.                        1.1897      0.289      4.114      0.000       0.623       1.757\n",
       "312 Medallion Management Corp                    1.3834      0.007    196.982      0.000       1.370       1.397\n",
       "3556 - 36214 RC Andrews Cab                      1.3865      0.023     60.030      0.000       1.341       1.432\n",
       "3591 - 63480 Chuks Cab                           1.0735      0.041     26.002      0.000       0.993       1.154\n",
       "3620 - 52292 David K. Cab Corp.                  1.3540      0.014     98.932      0.000       1.327       1.381\n",
       "3721 - Santamaria Express, Alvaro Santamaria     1.3443      0.126     10.691      0.000       1.098       1.591\n",
       "4053 - 40193 Adwar H. Nikola                     1.2694      0.036     35.576      0.000       1.199       1.339\n",
       "4523 - 79481 Hazel Transit Inc                   1.2590      0.140      8.965      0.000       0.984       1.534\n",
       "4623 - 27290 Jay Kim                             1.5044      0.016     94.405      0.000       1.473       1.536\n",
       "4787 - 56058 Reny Cab Co                         1.3430      0.055     24.390      0.000       1.235       1.451\n",
       "5062 - 34841 Sam Mestas                          1.2254      0.061     19.982      0.000       1.105       1.346\n",
       "6574 - Babylon Express Inc.                      1.2016      0.029     42.019      0.000       1.146       1.258\n",
       "6743 - 78771 Luhak Corp                          1.4488      0.072     20.147      0.000       1.308       1.590\n",
       "Blue Ribbon Taxi Association Inc.                1.4156      0.004    404.412      0.000       1.409       1.422\n",
       "Chicago Independents                             1.4100      0.002    642.993      0.000       1.406       1.414\n",
       "Chicago Taxicab                                  1.3092      0.004    327.211      0.000       1.301       1.317\n",
       "Choice Taxi Association                          1.3400      0.003    383.826      0.000       1.333       1.347\n",
       "City Service                                     1.4149      0.002    818.916      0.000       1.412       1.418\n",
       "Flash Cab                                        1.5129      0.001   1393.663      0.000       1.511       1.515\n",
       "Globe Taxi                                       1.4406      0.003    560.032      0.000       1.436       1.446\n",
       "KOAM Taxi Association                            1.3427      0.008    162.926      0.000       1.327       1.359\n",
       "Medallion Leasin                                 1.3744      0.002    728.858      0.000       1.371       1.378\n",
       "Metro Jet Cab Association Inc.                   1.5565      0.054     28.813      0.000       1.451       1.662\n",
       "Metro Jet Taxi A.                                1.3641      0.020     66.586      0.000       1.324       1.404\n",
       "Metro Jet Taxi Ass                               1.4953      0.020     72.941      0.000       1.455       1.535\n",
       "Patriot Taxi Dba Peace Taxi Associat             1.4585      0.007    219.104      0.000       1.445       1.472\n",
       "Petani Cab Corp                                  1.3230      0.010    135.157      0.000       1.304       1.342\n",
       "Setare Inc                                       1.4226      0.009    165.871      0.000       1.406       1.439\n",
       "Star North Management LLC                        1.3364      0.003    432.292      0.000       1.330       1.342\n",
       "Sun Taxi                                         1.4187      0.002    884.433      0.000       1.416       1.422\n",
       "Taxi Affiliation Services                        1.4452      0.001   1048.101      0.000       1.442       1.448\n",
       "Taxicab Insurance Agency, LLC                    1.3585      0.002    732.477      0.000       1.355       1.362\n",
       "Top Cab                                         -0.3537      3.753     -0.094      0.925      -7.709       7.002\n",
       "Top Cab Affiliation                              1.3738      0.002    582.417      0.000       1.369       1.378\n",
       "U Taxicab                                        1.3968      0.003    460.375      0.000       1.391       1.403\n",
       "Trip Seconds                                     0.0061    6.4e-06    951.940      0.000       0.006       0.006\n",
       "is_cash                                         -0.5081      0.009    -59.659      0.000      -0.525      -0.491\n",
       "is_airport                                       3.9052      0.013    306.577      0.000       3.880       3.930\n",
       "==============================================================================\n",
       "Omnibus:                  1434052.140   Durbin-Watson:                   2.000\n",
       "Prob(Omnibus):                  0.000   Jarque-Bera (JB):         64537462.052\n",
       "Skew:                           3.724   Prob(JB):                         0.00\n",
       "Kurtosis:                      31.960   Cond. No.                     1.37e+06\n",
       "==============================================================================\n",
       "\n",
       "Notes:\n",
       "[1] Standard Errors assume that the covariance matrix of the errors is correctly specified.\n",
       "[2] The condition number is large, 1.37e+06. This might indicate that there are\n",
       "strong multicollinearity or other numerical problems.\n",
       "\"\"\""
      ]
     },
     "execution_count": 13,
     "metadata": {},
     "output_type": "execute_result"
    }
   ],
   "source": [
    "# Casting as an array for memory efficient computation\n",
    "\n",
    "company_per_mile = pd.get_dummies(train_df[\"Company\"])\n",
    "company_cols = company_per_mile.columns\n",
    "\n",
    "company_per_mile = company_per_mile.values \\\n",
    "    *  train_features[\"Trip Miles\"].values.reshape(-1, 1)\n",
    "\n",
    "train_features_company = pd.DataFrame(company_per_mile, columns=company_cols)\n",
    "train_features_company[\"Trip Seconds\"] = train_features[\"Trip Seconds\"].values\n",
    "train_features_company[\"is_cash\"] = train_features[\"is_cash\"].values\n",
    "train_features_company[\"is_airport\"] = train_features[\"is_airport\"].values\n",
    "\n",
    "ols_model = fit_ols_model(train_features_company, train_fares, include_constant=True)\n",
    "ols_model.summary()"
   ]
  },
  {
   "cell_type": "code",
   "execution_count": 14,
   "id": "35886a55",
   "metadata": {},
   "outputs": [
    {
     "name": "stdout",
     "output_type": "stream",
     "text": [
      "Validation Benchmark OLS model with 2 variables results as follow:\n",
      "RMSE of 5.32051803669006\n",
      "MAE of 2.878946204132115\n",
      "################\n"
     ]
    }
   ],
   "source": [
    "dtype = pd.CategoricalDtype(categories=company_cols)\n",
    "\n",
    "company_per_mile_val = pd.get_dummies(val_df[\"Company\"].astype(dtype))\n",
    "\n",
    "company_per_mile_val = company_per_mile_val.values \\\n",
    "    *  val_features[\"Trip Miles\"].values.reshape(-1, 1)\n",
    "\n",
    "val_features_company = pd.DataFrame(company_per_mile_val, columns=company_cols)\n",
    "val_features_company[\"Trip Seconds\"] = val_features[\"Trip Seconds\"].values\n",
    "val_features_company[\"is_cash\"] = val_features[\"is_cash\"].values\n",
    "val_features_company[\"is_airport\"] = val_features[\"is_airport\"].values\n",
    "\n",
    "val_pred = predict_ols_model(ols_model, val_features_company)\n",
    "calculate_metric(val_fares, val_pred, \n",
    "                 header=\"Validation Benchmark OLS model with 2 variables\")"
   ]
  },
  {
   "cell_type": "markdown",
   "id": "c127b9d9",
   "metadata": {},
   "source": [
    "Generally we don't see any difference between the cab providers based on the cofficients. Furthermore the RMSE, MAE and adjusted R-squared do not improve in general. As such, going forward we will not use these variables. We are going to use the trip miles, trip seconds, cash/non cash and whether the trip involves the OHARE airport area as the base features\n"
   ]
  },
  {
   "cell_type": "code",
   "execution_count": 11,
   "id": "70b9ee41",
   "metadata": {},
   "outputs": [],
   "source": [
    "from sklearn.ensemble import RandomForestRegressor, GradientBoostingRegressor\n",
    "from xgboost import XGBRegressor"
   ]
  },
  {
   "cell_type": "code",
   "execution_count": 27,
   "id": "06bcc68e",
   "metadata": {},
   "outputs": [
    {
     "name": "stderr",
     "output_type": "stream",
     "text": [
      "/home/christopher/miniconda3/envs/taxi_analysis/lib/python3.7/site-packages/ipykernel_launcher.py:6: SettingWithCopyWarning: \n",
      "A value is trying to be set on a copy of a slice from a DataFrame.\n",
      "Try using .loc[row_indexer,col_indexer] = value instead\n",
      "\n",
      "See the caveats in the documentation: https://pandas.pydata.org/pandas-docs/stable/user_guide/indexing.html#returning-a-view-versus-a-copy\n",
      "  \n",
      "/home/christopher/miniconda3/envs/taxi_analysis/lib/python3.7/site-packages/ipykernel_launcher.py:8: SettingWithCopyWarning: \n",
      "A value is trying to be set on a copy of a slice from a DataFrame.\n",
      "Try using .loc[row_indexer,col_indexer] = value instead\n",
      "\n",
      "See the caveats in the documentation: https://pandas.pydata.org/pandas-docs/stable/user_guide/indexing.html#returning-a-view-versus-a-copy\n",
      "  \n"
     ]
    }
   ],
   "source": [
    "include_non_cash = True\n",
    "include_airport = True\n",
    "features = [\"Trip Miles\", \"Trip Seconds\"]\n",
    "\n",
    "train_features = extract_features(train_df, features, \n",
    "                                  include_non_cash=include_non_cash, \n",
    "                                  include_airport=include_airport)\n",
    "train_fares = train_df[\"Fare\"]\n",
    "\n",
    "val_features = extract_features(val_df, features,\n",
    "                                include_non_cash=include_non_cash, \n",
    "                                include_airport=include_airport)\n",
    "val_fares = val_df[\"Fare\"]"
   ]
  },
  {
   "cell_type": "code",
   "execution_count": 28,
   "id": "8b392d1b",
   "metadata": {},
   "outputs": [],
   "source": [
    "xgbr = XGBRegressor().fit(train_features, train_fares)"
   ]
  },
  {
   "cell_type": "code",
   "execution_count": 19,
   "id": "5725dc96",
   "metadata": {},
   "outputs": [],
   "source": [
    "rf = RandomForestRegressor().fit(train_features, train_fares)\n",
    "gbr = GradientBoostingRegressor().fit(train_features, train_fares)\n",
    "xgbr = XGBRegressor().fit(train_features, train_fares)"
   ]
  },
  {
   "cell_type": "code",
   "execution_count": 21,
   "id": "c80fee2d",
   "metadata": {},
   "outputs": [
    {
     "name": "stdout",
     "output_type": "stream",
     "text": [
      "Validation Benchmark for Random Forest Regressor results as follow:\n",
      "RMSE of 3.427392140771912\n",
      "MAE of 1.1342844868720536\n",
      "################\n",
      "Validation Benchmark for Gradient Boosting Regressor results as follow:\n",
      "RMSE of 3.64364686215597\n",
      "MAE of 1.38624668572024\n",
      "################\n"
     ]
    }
   ],
   "source": [
    "calculate_metric(val_fares, rf.predict(val_features), \n",
    "                 header=\"Validation Benchmark for Random Forest Regressor\")\n",
    "calculate_metric(val_fares, gbr.predict(val_features), \n",
    "                 header=\"Validation Benchmark for Gradient Boosting Regressor\")"
   ]
  },
  {
   "cell_type": "code",
   "execution_count": 29,
   "id": "bf5575bb",
   "metadata": {},
   "outputs": [
    {
     "name": "stdout",
     "output_type": "stream",
     "text": [
      "Validation Benchmark for XGBoost Regressor results as follow:\n",
      "RMSE of 3.195222129209245\n",
      "MAE of 1.0710769445248707\n",
      "################\n"
     ]
    }
   ],
   "source": [
    "calculate_metric(val_fares, xgbr.predict(val_features), \n",
    "                 header=\"Validation Benchmark for XGBoost Regressor\")"
   ]
  },
  {
   "cell_type": "markdown",
   "id": "7ca64e95",
   "metadata": {},
   "source": [
    "The ensemble model achieves better MAE and RMSE on the validation set compared to the linear model, let's try using the community area features since these models might be able to learn better relationship between the features"
   ]
  },
  {
   "cell_type": "code",
   "execution_count": 16,
   "id": "55533b49",
   "metadata": {},
   "outputs": [
    {
     "name": "stderr",
     "output_type": "stream",
     "text": [
      "/home/christopher/miniconda3/envs/taxi_analysis/lib/python3.7/site-packages/ipykernel_launcher.py:6: SettingWithCopyWarning: \n",
      "A value is trying to be set on a copy of a slice from a DataFrame.\n",
      "Try using .loc[row_indexer,col_indexer] = value instead\n",
      "\n",
      "See the caveats in the documentation: https://pandas.pydata.org/pandas-docs/stable/user_guide/indexing.html#returning-a-view-versus-a-copy\n",
      "  \n",
      "/home/christopher/miniconda3/envs/taxi_analysis/lib/python3.7/site-packages/ipykernel_launcher.py:8: SettingWithCopyWarning: \n",
      "A value is trying to be set on a copy of a slice from a DataFrame.\n",
      "Try using .loc[row_indexer,col_indexer] = value instead\n",
      "\n",
      "See the caveats in the documentation: https://pandas.pydata.org/pandas-docs/stable/user_guide/indexing.html#returning-a-view-versus-a-copy\n",
      "  \n"
     ]
    }
   ],
   "source": [
    "include_non_cash = True\n",
    "include_airport = True\n",
    "include_community = True\n",
    "\n",
    "train_features = extract_features(train_df, features, \n",
    "                                  include_non_cash=include_non_cash, \n",
    "                                  include_airport=include_airport,\n",
    "                                  include_community=include_community)\n",
    "train_fares = train_df[\"Fare\"]\n",
    "\n",
    "val_features = extract_features(val_df, features,\n",
    "                                include_non_cash=include_non_cash, \n",
    "                                include_airport=include_airport,\n",
    "                                include_community=include_community)\n",
    "val_fares = val_df[\"Fare\"]"
   ]
  },
  {
   "cell_type": "code",
   "execution_count": null,
   "id": "013b1e51",
   "metadata": {},
   "outputs": [
    {
     "name": "stderr",
     "output_type": "stream",
     "text": [
      "/home/christopher/miniconda3/envs/taxi_analysis/lib/python3.7/site-packages/sklearn/utils/validation.py:1692: FutureWarning: Feature names only support names that are all strings. Got feature names with dtypes: ['int', 'str']. An error will be raised in 1.2.\n",
      "  FutureWarning,\n"
     ]
    }
   ],
   "source": [
    "rf = RandomForestRegressor().fit(train_features, train_fares)\n",
    "gbr = GradientBoostingRegressor().fit(train_features, train_fares)\n",
    "xgbr = XGBRegressor().fit(train_features.values, train_fares)"
   ]
  },
  {
   "cell_type": "code",
   "execution_count": 20,
   "id": "73307ec2",
   "metadata": {},
   "outputs": [],
   "source": [
    "xgbr = XGBRegressor().fit(train_features.values, train_fares)"
   ]
  },
  {
   "cell_type": "code",
   "execution_count": 37,
   "id": "7cdd3f22",
   "metadata": {},
   "outputs": [
    {
     "name": "stderr",
     "output_type": "stream",
     "text": [
      "/home/christopher/miniconda3/envs/taxi_analysis/lib/python3.7/site-packages/sklearn/utils/validation.py:1692: FutureWarning: Feature names only support names that are all strings. Got feature names with dtypes: ['int', 'str']. An error will be raised in 1.2.\n",
      "  FutureWarning,\n"
     ]
    },
    {
     "name": "stdout",
     "output_type": "stream",
     "text": [
      "Validation Benchmark for Random Forest Regressor results as follow:\n",
      "RMSE of 2.9985050432088545\n",
      "MAE of 0.9785473193457149\n",
      "################\n"
     ]
    },
    {
     "name": "stderr",
     "output_type": "stream",
     "text": [
      "/home/christopher/miniconda3/envs/taxi_analysis/lib/python3.7/site-packages/sklearn/utils/validation.py:1692: FutureWarning: Feature names only support names that are all strings. Got feature names with dtypes: ['int', 'str']. An error will be raised in 1.2.\n",
      "  FutureWarning,\n"
     ]
    },
    {
     "name": "stdout",
     "output_type": "stream",
     "text": [
      "Validation Benchmark for Gradient Boosting Regressor results as follow:\n",
      "RMSE of 3.599175287182206\n",
      "MAE of 1.445593875347446\n",
      "################\n"
     ]
    }
   ],
   "source": [
    "calculate_metric(val_fares, rf.predict(val_features), \n",
    "                 header=\"Validation Benchmark for Random Forest Regressor\")\n",
    "calculate_metric(val_fares, gbr.predict(val_features), \n",
    "                 header=\"Validation Benchmark for Gradient Boosting Regressor\")"
   ]
  },
  {
   "cell_type": "code",
   "execution_count": 21,
   "id": "a268f588",
   "metadata": {},
   "outputs": [
    {
     "name": "stdout",
     "output_type": "stream",
     "text": [
      "Validation Benchmark for Gradient Boosting Regressor results as follow:\n",
      "RMSE of 3.0271009793156978\n",
      "MAE of 1.0696894433159443\n",
      "################\n"
     ]
    }
   ],
   "source": [
    "calculate_metric(val_fares, xgbr.predict(val_features), \n",
    "                 header=\"Validation Benchmark for XGBoost Regressor\")"
   ]
  },
  {
   "cell_type": "markdown",
   "id": "ca93f730",
   "metadata": {},
   "source": [
    "Seems like we can manage better MAE with random forest model in combination with the community area. For now let's save the two models"
   ]
  },
  {
   "cell_type": "code",
   "execution_count": 8,
   "id": "3eed82e6",
   "metadata": {},
   "outputs": [],
   "source": [
    "import joblib"
   ]
  },
  {
   "cell_type": "code",
   "execution_count": 48,
   "id": "1e76c96c",
   "metadata": {},
   "outputs": [
    {
     "data": {
      "text/plain": [
       "['./model/gradient_boosting.joblib']"
      ]
     },
     "execution_count": 48,
     "metadata": {},
     "output_type": "execute_result"
    }
   ],
   "source": [
    "joblib.dump(rf, \"./taxi_analysis/model/random_forest_model.joblib\")\n",
    "joblib.dump(gbr, \"./taxi_analysis/model/gradient_boosting.joblib\")"
   ]
  },
  {
   "cell_type": "markdown",
   "id": "874e5f6a",
   "metadata": {},
   "source": [
    "Next we perform prediction on the test data"
   ]
  },
  {
   "cell_type": "code",
   "execution_count": 23,
   "id": "a33c34bb",
   "metadata": {},
   "outputs": [
    {
     "name": "stderr",
     "output_type": "stream",
     "text": [
      "/home/christopher/miniconda3/envs/taxi_analysis/lib/python3.7/site-packages/ipykernel_launcher.py:6: SettingWithCopyWarning: \n",
      "A value is trying to be set on a copy of a slice from a DataFrame.\n",
      "Try using .loc[row_indexer,col_indexer] = value instead\n",
      "\n",
      "See the caveats in the documentation: https://pandas.pydata.org/pandas-docs/stable/user_guide/indexing.html#returning-a-view-versus-a-copy\n",
      "  \n",
      "/home/christopher/miniconda3/envs/taxi_analysis/lib/python3.7/site-packages/ipykernel_launcher.py:8: SettingWithCopyWarning: \n",
      "A value is trying to be set on a copy of a slice from a DataFrame.\n",
      "Try using .loc[row_indexer,col_indexer] = value instead\n",
      "\n",
      "See the caveats in the documentation: https://pandas.pydata.org/pandas-docs/stable/user_guide/indexing.html#returning-a-view-versus-a-copy\n",
      "  \n"
     ]
    }
   ],
   "source": [
    "include_non_cash = True\n",
    "include_airport = True\n",
    "include_community = True\n",
    "test_features = extract_features(test_df, features, \n",
    "                                  include_non_cash=include_non_cash, \n",
    "                                  include_airport=include_airport,\n",
    "                                  include_community=include_community)\n",
    "test_fares = test_df[\"Fare\"]"
   ]
  },
  {
   "cell_type": "code",
   "execution_count": 50,
   "id": "2ce1ad33",
   "metadata": {},
   "outputs": [
    {
     "name": "stderr",
     "output_type": "stream",
     "text": [
      "/home/christopher/miniconda3/envs/taxi_analysis/lib/python3.7/site-packages/sklearn/utils/validation.py:1692: FutureWarning: Feature names only support names that are all strings. Got feature names with dtypes: ['int', 'str']. An error will be raised in 1.2.\n",
      "  FutureWarning,\n"
     ]
    },
    {
     "name": "stdout",
     "output_type": "stream",
     "text": [
      "Test Results for Random Forest Regressor results as follow:\n",
      "RMSE of 2.9983245344989045\n",
      "MAE of 0.9779574273792171\n",
      "################\n"
     ]
    },
    {
     "name": "stderr",
     "output_type": "stream",
     "text": [
      "/home/christopher/miniconda3/envs/taxi_analysis/lib/python3.7/site-packages/sklearn/utils/validation.py:1692: FutureWarning: Feature names only support names that are all strings. Got feature names with dtypes: ['int', 'str']. An error will be raised in 1.2.\n",
      "  FutureWarning,\n"
     ]
    },
    {
     "name": "stdout",
     "output_type": "stream",
     "text": [
      "Test Results for Gradient Boosting Regressor results as follow:\n",
      "RMSE of 3.578332729827094\n",
      "MAE of 1.4423219477862224\n",
      "################\n"
     ]
    }
   ],
   "source": [
    "calculate_metric(test_fares, rf.predict(test_features), \n",
    "                 header=\"Test Results for Random Forest Regressor\")\n",
    "calculate_metric(test_fares, gbr.predict(test_features), \n",
    "                 header=\"Test Results for Gradient Boosting Regressor\")"
   ]
  },
  {
   "cell_type": "code",
   "execution_count": 24,
   "id": "ad6c3675",
   "metadata": {},
   "outputs": [
    {
     "name": "stdout",
     "output_type": "stream",
     "text": [
      "Test Results for Gradient Boosting Regressor results as follow:\n",
      "RMSE of 3.0103655435604977\n",
      "MAE of 1.0683409047085797\n",
      "################\n"
     ]
    }
   ],
   "source": [
    "calculate_metric(test_fares, xgbr.predict(test_features), \n",
    "                 header=\"Test Results for Gradient Boosting Regressor\")"
   ]
  },
  {
   "cell_type": "markdown",
   "id": "9a2c848a",
   "metadata": {},
   "source": [
    "We observe similar performance on the test set and the validation set, next we perform inference on the pre-covid dataset just to see whether the model can still perform well"
   ]
  },
  {
   "cell_type": "code",
   "execution_count": 52,
   "id": "64ba34c5",
   "metadata": {
    "scrolled": false
   },
   "outputs": [
    {
     "name": "stderr",
     "output_type": "stream",
     "text": [
      "/home/christopher/miniconda3/envs/taxi_analysis/lib/python3.7/site-packages/ipykernel_launcher.py:6: SettingWithCopyWarning: \n",
      "A value is trying to be set on a copy of a slice from a DataFrame.\n",
      "Try using .loc[row_indexer,col_indexer] = value instead\n",
      "\n",
      "See the caveats in the documentation: https://pandas.pydata.org/pandas-docs/stable/user_guide/indexing.html#returning-a-view-versus-a-copy\n",
      "  \n",
      "/home/christopher/miniconda3/envs/taxi_analysis/lib/python3.7/site-packages/ipykernel_launcher.py:8: SettingWithCopyWarning: \n",
      "A value is trying to be set on a copy of a slice from a DataFrame.\n",
      "Try using .loc[row_indexer,col_indexer] = value instead\n",
      "\n",
      "See the caveats in the documentation: https://pandas.pydata.org/pandas-docs/stable/user_guide/indexing.html#returning-a-view-versus-a-copy\n",
      "  \n"
     ]
    },
    {
     "name": "stdout",
     "output_type": "stream",
     "text": [
      "Results for the year 2017, Random Forest Regressor results as follow:\n",
      "RMSE of 2.018624251106619\n",
      "MAE of 0.625294408403186\n",
      "################\n",
      "Results for the year 2017, Gradient Boosting Regressor results as follow:\n",
      "RMSE of 1.9658744399370136\n",
      "MAE of 1.0191167994738362\n",
      "################\n"
     ]
    },
    {
     "name": "stderr",
     "output_type": "stream",
     "text": [
      "/home/christopher/miniconda3/envs/taxi_analysis/lib/python3.7/site-packages/ipykernel_launcher.py:6: SettingWithCopyWarning: \n",
      "A value is trying to be set on a copy of a slice from a DataFrame.\n",
      "Try using .loc[row_indexer,col_indexer] = value instead\n",
      "\n",
      "See the caveats in the documentation: https://pandas.pydata.org/pandas-docs/stable/user_guide/indexing.html#returning-a-view-versus-a-copy\n",
      "  \n",
      "/home/christopher/miniconda3/envs/taxi_analysis/lib/python3.7/site-packages/ipykernel_launcher.py:8: SettingWithCopyWarning: \n",
      "A value is trying to be set on a copy of a slice from a DataFrame.\n",
      "Try using .loc[row_indexer,col_indexer] = value instead\n",
      "\n",
      "See the caveats in the documentation: https://pandas.pydata.org/pandas-docs/stable/user_guide/indexing.html#returning-a-view-versus-a-copy\n",
      "  \n"
     ]
    },
    {
     "name": "stdout",
     "output_type": "stream",
     "text": [
      "Results for the year 2018, Random Forest Regressor results as follow:\n",
      "RMSE of 1.8134918995961353\n",
      "MAE of 0.6017923582774529\n",
      "################\n",
      "Results for the year 2018, Gradient Boosting Regressor results as follow:\n",
      "RMSE of 1.9643492388668597\n",
      "MAE of 1.0185141830504145\n",
      "################\n"
     ]
    },
    {
     "name": "stderr",
     "output_type": "stream",
     "text": [
      "/home/christopher/miniconda3/envs/taxi_analysis/lib/python3.7/site-packages/ipykernel_launcher.py:6: SettingWithCopyWarning: \n",
      "A value is trying to be set on a copy of a slice from a DataFrame.\n",
      "Try using .loc[row_indexer,col_indexer] = value instead\n",
      "\n",
      "See the caveats in the documentation: https://pandas.pydata.org/pandas-docs/stable/user_guide/indexing.html#returning-a-view-versus-a-copy\n",
      "  \n",
      "/home/christopher/miniconda3/envs/taxi_analysis/lib/python3.7/site-packages/ipykernel_launcher.py:8: SettingWithCopyWarning: \n",
      "A value is trying to be set on a copy of a slice from a DataFrame.\n",
      "Try using .loc[row_indexer,col_indexer] = value instead\n",
      "\n",
      "See the caveats in the documentation: https://pandas.pydata.org/pandas-docs/stable/user_guide/indexing.html#returning-a-view-versus-a-copy\n",
      "  \n"
     ]
    },
    {
     "name": "stdout",
     "output_type": "stream",
     "text": [
      "Results for the year 2019, Random Forest Regressor results as follow:\n",
      "RMSE of 2.0568767199614686\n",
      "MAE of 0.6797031352799068\n",
      "################\n",
      "Results for the year 2019, Gradient Boosting Regressor results as follow:\n",
      "RMSE of 2.238899742526288\n",
      "MAE of 1.1369876958480518\n",
      "################\n"
     ]
    },
    {
     "name": "stderr",
     "output_type": "stream",
     "text": [
      "/home/christopher/miniconda3/envs/taxi_analysis/lib/python3.7/site-packages/ipykernel_launcher.py:6: SettingWithCopyWarning: \n",
      "A value is trying to be set on a copy of a slice from a DataFrame.\n",
      "Try using .loc[row_indexer,col_indexer] = value instead\n",
      "\n",
      "See the caveats in the documentation: https://pandas.pydata.org/pandas-docs/stable/user_guide/indexing.html#returning-a-view-versus-a-copy\n",
      "  \n",
      "/home/christopher/miniconda3/envs/taxi_analysis/lib/python3.7/site-packages/ipykernel_launcher.py:8: SettingWithCopyWarning: \n",
      "A value is trying to be set on a copy of a slice from a DataFrame.\n",
      "Try using .loc[row_indexer,col_indexer] = value instead\n",
      "\n",
      "See the caveats in the documentation: https://pandas.pydata.org/pandas-docs/stable/user_guide/indexing.html#returning-a-view-versus-a-copy\n",
      "  \n"
     ]
    },
    {
     "name": "stdout",
     "output_type": "stream",
     "text": [
      "Results for the year 2020, Random Forest Regressor results as follow:\n",
      "RMSE of 2.3185807790613757\n",
      "MAE of 0.7479134932839862\n",
      "################\n",
      "Results for the year 2020, Gradient Boosting Regressor results as follow:\n",
      "RMSE of 2.400683833758345\n",
      "MAE of 1.12538831059798\n",
      "################\n"
     ]
    }
   ],
   "source": [
    "years = [2017, 2018, 2019, 2020]\n",
    "for year in years:\n",
    "    df = pd.read_csv(os.path.join(str(year), \"./chicago_taxi_cleaned.csv\"))\n",
    "    df_features = extract_features(df, features, include_non_cash=True, \n",
    "                                   include_airport=True, include_community=True)\n",
    "    df_fares = df[\"Fare\"]\n",
    "    calculate_metric(df_fares, rf.predict(df_features.values), \n",
    "                     header=\"Results for the year {}, Random Forest Regressor\".format(year))\n",
    "    calculate_metric(df_fares, gbr.predict(df_features.values), \n",
    "                     header=\"Results for the year {}, Gradient Boosting Regressor\".format(year))\n",
    "    "
   ]
  },
  {
   "cell_type": "code",
   "execution_count": 25,
   "id": "744742f7",
   "metadata": {},
   "outputs": [
    {
     "name": "stderr",
     "output_type": "stream",
     "text": [
      "/home/christopher/miniconda3/envs/taxi_analysis/lib/python3.7/site-packages/ipykernel_launcher.py:6: SettingWithCopyWarning: \n",
      "A value is trying to be set on a copy of a slice from a DataFrame.\n",
      "Try using .loc[row_indexer,col_indexer] = value instead\n",
      "\n",
      "See the caveats in the documentation: https://pandas.pydata.org/pandas-docs/stable/user_guide/indexing.html#returning-a-view-versus-a-copy\n",
      "  \n",
      "/home/christopher/miniconda3/envs/taxi_analysis/lib/python3.7/site-packages/ipykernel_launcher.py:8: SettingWithCopyWarning: \n",
      "A value is trying to be set on a copy of a slice from a DataFrame.\n",
      "Try using .loc[row_indexer,col_indexer] = value instead\n",
      "\n",
      "See the caveats in the documentation: https://pandas.pydata.org/pandas-docs/stable/user_guide/indexing.html#returning-a-view-versus-a-copy\n",
      "  \n"
     ]
    },
    {
     "name": "stdout",
     "output_type": "stream",
     "text": [
      "Results for the year 2017, Random Forest Regressor results as follow:\n",
      "RMSE of 1.755078440097429\n",
      "MAE of 0.7298531646834807\n",
      "################\n"
     ]
    },
    {
     "name": "stderr",
     "output_type": "stream",
     "text": [
      "/home/christopher/miniconda3/envs/taxi_analysis/lib/python3.7/site-packages/ipykernel_launcher.py:6: SettingWithCopyWarning: \n",
      "A value is trying to be set on a copy of a slice from a DataFrame.\n",
      "Try using .loc[row_indexer,col_indexer] = value instead\n",
      "\n",
      "See the caveats in the documentation: https://pandas.pydata.org/pandas-docs/stable/user_guide/indexing.html#returning-a-view-versus-a-copy\n",
      "  \n",
      "/home/christopher/miniconda3/envs/taxi_analysis/lib/python3.7/site-packages/ipykernel_launcher.py:8: SettingWithCopyWarning: \n",
      "A value is trying to be set on a copy of a slice from a DataFrame.\n",
      "Try using .loc[row_indexer,col_indexer] = value instead\n",
      "\n",
      "See the caveats in the documentation: https://pandas.pydata.org/pandas-docs/stable/user_guide/indexing.html#returning-a-view-versus-a-copy\n",
      "  \n"
     ]
    },
    {
     "name": "stdout",
     "output_type": "stream",
     "text": [
      "Results for the year 2018, Random Forest Regressor results as follow:\n",
      "RMSE of 1.6259528432889798\n",
      "MAE of 0.6885473735252768\n",
      "################\n"
     ]
    },
    {
     "name": "stderr",
     "output_type": "stream",
     "text": [
      "/home/christopher/miniconda3/envs/taxi_analysis/lib/python3.7/site-packages/ipykernel_launcher.py:6: SettingWithCopyWarning: \n",
      "A value is trying to be set on a copy of a slice from a DataFrame.\n",
      "Try using .loc[row_indexer,col_indexer] = value instead\n",
      "\n",
      "See the caveats in the documentation: https://pandas.pydata.org/pandas-docs/stable/user_guide/indexing.html#returning-a-view-versus-a-copy\n",
      "  \n",
      "/home/christopher/miniconda3/envs/taxi_analysis/lib/python3.7/site-packages/ipykernel_launcher.py:8: SettingWithCopyWarning: \n",
      "A value is trying to be set on a copy of a slice from a DataFrame.\n",
      "Try using .loc[row_indexer,col_indexer] = value instead\n",
      "\n",
      "See the caveats in the documentation: https://pandas.pydata.org/pandas-docs/stable/user_guide/indexing.html#returning-a-view-versus-a-copy\n",
      "  \n"
     ]
    },
    {
     "name": "stdout",
     "output_type": "stream",
     "text": [
      "Results for the year 2019, Random Forest Regressor results as follow:\n",
      "RMSE of 1.7600056390634595\n",
      "MAE of 0.7471779608234222\n",
      "################\n"
     ]
    },
    {
     "name": "stderr",
     "output_type": "stream",
     "text": [
      "/home/christopher/miniconda3/envs/taxi_analysis/lib/python3.7/site-packages/ipykernel_launcher.py:6: SettingWithCopyWarning: \n",
      "A value is trying to be set on a copy of a slice from a DataFrame.\n",
      "Try using .loc[row_indexer,col_indexer] = value instead\n",
      "\n",
      "See the caveats in the documentation: https://pandas.pydata.org/pandas-docs/stable/user_guide/indexing.html#returning-a-view-versus-a-copy\n",
      "  \n",
      "/home/christopher/miniconda3/envs/taxi_analysis/lib/python3.7/site-packages/ipykernel_launcher.py:8: SettingWithCopyWarning: \n",
      "A value is trying to be set on a copy of a slice from a DataFrame.\n",
      "Try using .loc[row_indexer,col_indexer] = value instead\n",
      "\n",
      "See the caveats in the documentation: https://pandas.pydata.org/pandas-docs/stable/user_guide/indexing.html#returning-a-view-versus-a-copy\n",
      "  \n"
     ]
    },
    {
     "name": "stdout",
     "output_type": "stream",
     "text": [
      "Results for the year 2020, Random Forest Regressor results as follow:\n",
      "RMSE of 1.9564162891017354\n",
      "MAE of 0.8019389113688782\n",
      "################\n"
     ]
    }
   ],
   "source": [
    "years = [2017, 2018, 2019, 2020]\n",
    "for year in years:\n",
    "    df = pd.read_csv(os.path.join(str(year), \"./chicago_taxi_cleaned.csv\"))\n",
    "    df_features = extract_features(df, features, include_non_cash=True, \n",
    "                                   include_airport=True, include_community=True)\n",
    "    df_fares = df[\"Fare\"]\n",
    "    calculate_metric(df_fares, xgbr.predict(df_features.values), \n",
    "                     header=\"Results for the year {}, Random Forest Regressor\".format(year))\n",
    "    "
   ]
  },
  {
   "cell_type": "code",
   "execution_count": 18,
   "id": "f039101b",
   "metadata": {},
   "outputs": [
    {
     "name": "stdout",
     "output_type": "stream",
     "text": [
      "Results for the year 2017, Benchmark Model results as follow:\n",
      "RMSE of 5.240923558889103\n",
      "MAE of 3.468403479468315\n",
      "################\n",
      "Results for the year 2018, Benchmark Model results as follow:\n",
      "RMSE of 5.60572279524452\n",
      "MAE of 3.662089295811558\n",
      "################\n",
      "Results for the year 2019, Benchmark Model results as follow:\n",
      "RMSE of 6.155571220105781\n",
      "MAE of 4.002580472256923\n",
      "################\n",
      "Results for the year 2020, Benchmark Model results as follow:\n",
      "RMSE of 5.871705655304449\n",
      "MAE of 3.927683635003288\n",
      "################\n"
     ]
    }
   ],
   "source": [
    "for year in years:\n",
    "    df = pd.read_csv(os.path.join(str(year), \"./chicago_taxi_cleaned.csv\"))\n",
    "    df_fares = df[\"Fare\"]\n",
    "    calculate_metric(df_fares, calculate_benchmark_classifier(df, include_cc=False, \n",
    "                                                              include_airport=False), \n",
    "                     header=\"Results for the year {}, Benchmark Model\".format(year))\n"
   ]
  }
 ],
 "metadata": {
  "kernelspec": {
   "display_name": "Python [conda env:taxi_analysis] *",
   "language": "python",
   "name": "conda-env-taxi_analysis-py"
  },
  "language_info": {
   "codemirror_mode": {
    "name": "ipython",
    "version": 3
   },
   "file_extension": ".py",
   "mimetype": "text/x-python",
   "name": "python",
   "nbconvert_exporter": "python",
   "pygments_lexer": "ipython3",
   "version": "3.7.13"
  }
 },
 "nbformat": 4,
 "nbformat_minor": 5
}
